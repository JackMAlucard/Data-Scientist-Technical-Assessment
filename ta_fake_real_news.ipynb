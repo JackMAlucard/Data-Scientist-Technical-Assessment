{
  "nbformat": 4,
  "nbformat_minor": 0,
  "metadata": {
    "colab": {
      "provenance": [],
      "gpuType": "T4",
      "authorship_tag": "ABX9TyMsLrFfQcknqLQdlzenwTH3",
      "include_colab_link": true
    },
    "kernelspec": {
      "name": "python3",
      "display_name": "Python 3"
    },
    "language_info": {
      "name": "python"
    },
    "accelerator": "GPU"
  },
  "cells": [
    {
      "cell_type": "markdown",
      "metadata": {
        "id": "view-in-github",
        "colab_type": "text"
      },
      "source": [
        "<a href=\"https://colab.research.google.com/github/JackMAlucard/Data-Scientist-Technical-Assessment/blob/main/ta_fake_real_news.ipynb\" target=\"_parent\"><img src=\"https://colab.research.google.com/assets/colab-badge.svg\" alt=\"Open In Colab\"/></a>"
      ]
    },
    {
      "cell_type": "markdown",
      "source": [
        "#1️⃣ Data Cleaning and Preprocessing"
      ],
      "metadata": {
        "id": "NfYWhVtUmU81"
      }
    },
    {
      "cell_type": "markdown",
      "source": [
        "##💾 Loading the text dataset and inspecting its structure"
      ],
      "metadata": {
        "id": "iJy-rmSZo1_V"
      }
    },
    {
      "cell_type": "markdown",
      "source": [
        "###Setting up the Kaggle API to import the datasets directly from Kaggle\n",
        "**Setting up the Kaggle API to import the datasets directly from Kaggle**"
      ],
      "metadata": {
        "id": "iqtoP38nl5cu"
      }
    },
    {
      "cell_type": "code",
      "source": [
        "# Upload Kaggle API Credentials, downloaded from https://www.kaggle.com/settings\n",
        "from google.colab import files\n",
        "files.upload()"
      ],
      "metadata": {
        "id": "geQ1njOemGKf",
        "outputId": "e9c2a2eb-7eaa-4c74-aaaf-dd307c777d7b",
        "colab": {
          "base_uri": "https://localhost:8080/",
          "height": 90
        }
      },
      "execution_count": 1,
      "outputs": [
        {
          "output_type": "display_data",
          "data": {
            "text/plain": [
              "<IPython.core.display.HTML object>"
            ],
            "text/html": [
              "\n",
              "     <input type=\"file\" id=\"files-c53b7d40-bfdc-4018-b206-9b21d495c96c\" name=\"files[]\" multiple disabled\n",
              "        style=\"border:none\" />\n",
              "     <output id=\"result-c53b7d40-bfdc-4018-b206-9b21d495c96c\">\n",
              "      Upload widget is only available when the cell has been executed in the\n",
              "      current browser session. Please rerun this cell to enable.\n",
              "      </output>\n",
              "      <script>// Copyright 2017 Google LLC\n",
              "//\n",
              "// Licensed under the Apache License, Version 2.0 (the \"License\");\n",
              "// you may not use this file except in compliance with the License.\n",
              "// You may obtain a copy of the License at\n",
              "//\n",
              "//      http://www.apache.org/licenses/LICENSE-2.0\n",
              "//\n",
              "// Unless required by applicable law or agreed to in writing, software\n",
              "// distributed under the License is distributed on an \"AS IS\" BASIS,\n",
              "// WITHOUT WARRANTIES OR CONDITIONS OF ANY KIND, either express or implied.\n",
              "// See the License for the specific language governing permissions and\n",
              "// limitations under the License.\n",
              "\n",
              "/**\n",
              " * @fileoverview Helpers for google.colab Python module.\n",
              " */\n",
              "(function(scope) {\n",
              "function span(text, styleAttributes = {}) {\n",
              "  const element = document.createElement('span');\n",
              "  element.textContent = text;\n",
              "  for (const key of Object.keys(styleAttributes)) {\n",
              "    element.style[key] = styleAttributes[key];\n",
              "  }\n",
              "  return element;\n",
              "}\n",
              "\n",
              "// Max number of bytes which will be uploaded at a time.\n",
              "const MAX_PAYLOAD_SIZE = 100 * 1024;\n",
              "\n",
              "function _uploadFiles(inputId, outputId) {\n",
              "  const steps = uploadFilesStep(inputId, outputId);\n",
              "  const outputElement = document.getElementById(outputId);\n",
              "  // Cache steps on the outputElement to make it available for the next call\n",
              "  // to uploadFilesContinue from Python.\n",
              "  outputElement.steps = steps;\n",
              "\n",
              "  return _uploadFilesContinue(outputId);\n",
              "}\n",
              "\n",
              "// This is roughly an async generator (not supported in the browser yet),\n",
              "// where there are multiple asynchronous steps and the Python side is going\n",
              "// to poll for completion of each step.\n",
              "// This uses a Promise to block the python side on completion of each step,\n",
              "// then passes the result of the previous step as the input to the next step.\n",
              "function _uploadFilesContinue(outputId) {\n",
              "  const outputElement = document.getElementById(outputId);\n",
              "  const steps = outputElement.steps;\n",
              "\n",
              "  const next = steps.next(outputElement.lastPromiseValue);\n",
              "  return Promise.resolve(next.value.promise).then((value) => {\n",
              "    // Cache the last promise value to make it available to the next\n",
              "    // step of the generator.\n",
              "    outputElement.lastPromiseValue = value;\n",
              "    return next.value.response;\n",
              "  });\n",
              "}\n",
              "\n",
              "/**\n",
              " * Generator function which is called between each async step of the upload\n",
              " * process.\n",
              " * @param {string} inputId Element ID of the input file picker element.\n",
              " * @param {string} outputId Element ID of the output display.\n",
              " * @return {!Iterable<!Object>} Iterable of next steps.\n",
              " */\n",
              "function* uploadFilesStep(inputId, outputId) {\n",
              "  const inputElement = document.getElementById(inputId);\n",
              "  inputElement.disabled = false;\n",
              "\n",
              "  const outputElement = document.getElementById(outputId);\n",
              "  outputElement.innerHTML = '';\n",
              "\n",
              "  const pickedPromise = new Promise((resolve) => {\n",
              "    inputElement.addEventListener('change', (e) => {\n",
              "      resolve(e.target.files);\n",
              "    });\n",
              "  });\n",
              "\n",
              "  const cancel = document.createElement('button');\n",
              "  inputElement.parentElement.appendChild(cancel);\n",
              "  cancel.textContent = 'Cancel upload';\n",
              "  const cancelPromise = new Promise((resolve) => {\n",
              "    cancel.onclick = () => {\n",
              "      resolve(null);\n",
              "    };\n",
              "  });\n",
              "\n",
              "  // Wait for the user to pick the files.\n",
              "  const files = yield {\n",
              "    promise: Promise.race([pickedPromise, cancelPromise]),\n",
              "    response: {\n",
              "      action: 'starting',\n",
              "    }\n",
              "  };\n",
              "\n",
              "  cancel.remove();\n",
              "\n",
              "  // Disable the input element since further picks are not allowed.\n",
              "  inputElement.disabled = true;\n",
              "\n",
              "  if (!files) {\n",
              "    return {\n",
              "      response: {\n",
              "        action: 'complete',\n",
              "      }\n",
              "    };\n",
              "  }\n",
              "\n",
              "  for (const file of files) {\n",
              "    const li = document.createElement('li');\n",
              "    li.append(span(file.name, {fontWeight: 'bold'}));\n",
              "    li.append(span(\n",
              "        `(${file.type || 'n/a'}) - ${file.size} bytes, ` +\n",
              "        `last modified: ${\n",
              "            file.lastModifiedDate ? file.lastModifiedDate.toLocaleDateString() :\n",
              "                                    'n/a'} - `));\n",
              "    const percent = span('0% done');\n",
              "    li.appendChild(percent);\n",
              "\n",
              "    outputElement.appendChild(li);\n",
              "\n",
              "    const fileDataPromise = new Promise((resolve) => {\n",
              "      const reader = new FileReader();\n",
              "      reader.onload = (e) => {\n",
              "        resolve(e.target.result);\n",
              "      };\n",
              "      reader.readAsArrayBuffer(file);\n",
              "    });\n",
              "    // Wait for the data to be ready.\n",
              "    let fileData = yield {\n",
              "      promise: fileDataPromise,\n",
              "      response: {\n",
              "        action: 'continue',\n",
              "      }\n",
              "    };\n",
              "\n",
              "    // Use a chunked sending to avoid message size limits. See b/62115660.\n",
              "    let position = 0;\n",
              "    do {\n",
              "      const length = Math.min(fileData.byteLength - position, MAX_PAYLOAD_SIZE);\n",
              "      const chunk = new Uint8Array(fileData, position, length);\n",
              "      position += length;\n",
              "\n",
              "      const base64 = btoa(String.fromCharCode.apply(null, chunk));\n",
              "      yield {\n",
              "        response: {\n",
              "          action: 'append',\n",
              "          file: file.name,\n",
              "          data: base64,\n",
              "        },\n",
              "      };\n",
              "\n",
              "      let percentDone = fileData.byteLength === 0 ?\n",
              "          100 :\n",
              "          Math.round((position / fileData.byteLength) * 100);\n",
              "      percent.textContent = `${percentDone}% done`;\n",
              "\n",
              "    } while (position < fileData.byteLength);\n",
              "  }\n",
              "\n",
              "  // All done.\n",
              "  yield {\n",
              "    response: {\n",
              "      action: 'complete',\n",
              "    }\n",
              "  };\n",
              "}\n",
              "\n",
              "scope.google = scope.google || {};\n",
              "scope.google.colab = scope.google.colab || {};\n",
              "scope.google.colab._files = {\n",
              "  _uploadFiles,\n",
              "  _uploadFilesContinue,\n",
              "};\n",
              "})(self);\n",
              "</script> "
            ]
          },
          "metadata": {}
        },
        {
          "output_type": "stream",
          "name": "stdout",
          "text": [
            "Saving kaggle.json to kaggle.json\n"
          ]
        },
        {
          "output_type": "execute_result",
          "data": {
            "text/plain": [
              "{'kaggle.json': b'{\"username\":\"jackmalucard\",\"key\":\"2aa4618ce05c77e80b6f52fc895aa216\"}'}"
            ]
          },
          "metadata": {},
          "execution_count": 1
        }
      ]
    },
    {
      "cell_type": "code",
      "source": [
        "# Move Kaggle API Credentials\n",
        "!mkdir -p ~/.kaggle\n",
        "!mv kaggle.json ~/.kaggle/\n",
        "# Set Permissions\n",
        "!chmod 600 ~/.kaggle/kaggle.json"
      ],
      "metadata": {
        "id": "K9mHde6OnT_Z"
      },
      "execution_count": 2,
      "outputs": []
    },
    {
      "cell_type": "markdown",
      "source": [
        "###Downloading dataset from Kaggle"
      ],
      "metadata": {
        "id": "lMYfVJzVtBWr"
      }
    },
    {
      "cell_type": "code",
      "source": [
        "# Download dataset directly using the Kaggle API\n",
        "!kaggle datasets download -d clmentbisaillon/fake-and-real-news-dataset/\n",
        "!ls"
      ],
      "metadata": {
        "id": "lthSqJC4migU",
        "outputId": "ac57f55d-8782-4120-91f4-6e50362d9669",
        "colab": {
          "base_uri": "https://localhost:8080/"
        }
      },
      "execution_count": 3,
      "outputs": [
        {
          "output_type": "stream",
          "name": "stdout",
          "text": [
            "Downloading fake-and-real-news-dataset.zip to /content\n",
            " 98% 40.0M/41.0M [00:03<00:00, 19.8MB/s]\n",
            "100% 41.0M/41.0M [00:03<00:00, 13.1MB/s]\n",
            "fake-and-real-news-dataset.zip\tsample_data\n"
          ]
        }
      ]
    },
    {
      "cell_type": "markdown",
      "source": [
        "###Extracting dataset from zip file into the ```/content``` directory."
      ],
      "metadata": {
        "id": "TWwLOD6xoyyj"
      }
    },
    {
      "cell_type": "code",
      "source": [
        "# Import 'zipfile' module\n",
        "import zipfile\n",
        "\n",
        "# Specify the path to the zip file with the dataset\n",
        "zip_file_path = 'fake-and-real-news-dataset.zip'\n",
        "\n",
        "# Specify the directory where the files are to be extracted\n",
        "extract_dir = '/content'\n",
        "\n",
        "# Extract the files\n",
        "with zipfile.ZipFile(zip_file_path, 'r') as zip_ref:\n",
        "    zip_ref.extractall(extract_dir)\n",
        "\n",
        "!ls"
      ],
      "metadata": {
        "id": "77lQx4uRoxyt",
        "colab": {
          "base_uri": "https://localhost:8080/"
        },
        "outputId": "b8242ba0-0a24-4b3d-e2b9-43e4693d6ea1"
      },
      "execution_count": 4,
      "outputs": [
        {
          "output_type": "stream",
          "name": "stdout",
          "text": [
            "fake-and-real-news-dataset.zip\tFake.csv  sample_data  True.csv\n"
          ]
        }
      ]
    },
    {
      "cell_type": "markdown",
      "source": [
        "Getting the names of the files inside the dataset to be used later"
      ],
      "metadata": {
        "id": "ykWQGHsVvEgo"
      }
    },
    {
      "cell_type": "code",
      "source": [
        "import os\n",
        "\n",
        "# Specify the directory path\n",
        "directory_path = '/content'\n",
        "\n",
        "# Specify the desired file extension\n",
        "extension = '.csv'\n",
        "\n",
        "# Get a list of file names in the directory\n",
        "file_names = os.listdir(directory_path)\n",
        "\n",
        "# Filter and save filenames with the desired extension\n",
        "filtered_files = [file_name for file_name in file_names if file_name.endswith(extension)]\n",
        "\n",
        "# Print the list of file names\n",
        "print(\"List of file names in the directory:\")\n",
        "for file_name in filtered_files:\n",
        "    print(file_name)"
      ],
      "metadata": {
        "id": "fVr_Qc9Iut3a",
        "outputId": "79912504-1664-4a6b-939d-914da5a301b2",
        "colab": {
          "base_uri": "https://localhost:8080/"
        }
      },
      "execution_count": 5,
      "outputs": [
        {
          "output_type": "stream",
          "name": "stdout",
          "text": [
            "List of file names in the directory:\n",
            "Fake.csv\n",
            "True.csv\n"
          ]
        }
      ]
    },
    {
      "cell_type": "markdown",
      "source": [
        "###Loading and inspecting data"
      ],
      "metadata": {
        "id": "UOTwPE09vQkE"
      }
    },
    {
      "cell_type": "code",
      "source": [
        "# Import pandas library\n",
        "import pandas as pd"
      ],
      "metadata": {
        "id": "3zCnKTfNuJGf"
      },
      "execution_count": 6,
      "outputs": []
    },
    {
      "cell_type": "code",
      "source": [
        "# Load the dataset files into Pandas DataFrames\n",
        "df1 = pd.read_csv(filtered_files[0])\n",
        "df2 = pd.read_csv(filtered_files[1])"
      ],
      "metadata": {
        "id": "dtW09UA2-awo"
      },
      "execution_count": 7,
      "outputs": []
    },
    {
      "cell_type": "code",
      "source": [
        "# Fake News Dataset (df1)\n",
        "# Get basic information about df1\n",
        "print(\"Fake News dataframe info:\")\n",
        "print(df1.info())\n",
        "print(\"\\n\")\n",
        "\n",
        "# Display the first few rows of df1\n",
        "print(\"First few rows of Fake News DataFrame:\")\n",
        "print(df1.head())"
      ],
      "metadata": {
        "id": "RmhacNMX-eOn",
        "outputId": "ab198e9f-aadf-46c2-c4a4-f3195c6923f2",
        "colab": {
          "base_uri": "https://localhost:8080/"
        }
      },
      "execution_count": 8,
      "outputs": [
        {
          "output_type": "stream",
          "name": "stdout",
          "text": [
            "Fake News dataframe info:\n",
            "<class 'pandas.core.frame.DataFrame'>\n",
            "RangeIndex: 23481 entries, 0 to 23480\n",
            "Data columns (total 4 columns):\n",
            " #   Column   Non-Null Count  Dtype \n",
            "---  ------   --------------  ----- \n",
            " 0   title    23481 non-null  object\n",
            " 1   text     23481 non-null  object\n",
            " 2   subject  23481 non-null  object\n",
            " 3   date     23481 non-null  object\n",
            "dtypes: object(4)\n",
            "memory usage: 733.9+ KB\n",
            "None\n",
            "\n",
            "\n",
            "First few rows of Fake News DataFrame:\n",
            "                                               title  \\\n",
            "0   Donald Trump Sends Out Embarrassing New Year’...   \n",
            "1   Drunk Bragging Trump Staffer Started Russian ...   \n",
            "2   Sheriff David Clarke Becomes An Internet Joke...   \n",
            "3   Trump Is So Obsessed He Even Has Obama’s Name...   \n",
            "4   Pope Francis Just Called Out Donald Trump Dur...   \n",
            "\n",
            "                                                text subject  \\\n",
            "0  Donald Trump just couldn t wish all Americans ...    News   \n",
            "1  House Intelligence Committee Chairman Devin Nu...    News   \n",
            "2  On Friday, it was revealed that former Milwauk...    News   \n",
            "3  On Christmas day, Donald Trump announced that ...    News   \n",
            "4  Pope Francis used his annual Christmas Day mes...    News   \n",
            "\n",
            "                date  \n",
            "0  December 31, 2017  \n",
            "1  December 31, 2017  \n",
            "2  December 30, 2017  \n",
            "3  December 29, 2017  \n",
            "4  December 25, 2017  \n"
          ]
        }
      ]
    },
    {
      "cell_type": "code",
      "source": [
        "# Real News Dataset (df2)\n",
        "# Get basic information about df2\n",
        "print(\"Real News dataframe info:\")\n",
        "print(df2.info())\n",
        "print(\"\\n\")\n",
        "\n",
        "# Display the first few rows of df2\n",
        "print(\"First few rows of Real News DataFrame:\")\n",
        "print(df2.head())"
      ],
      "metadata": {
        "outputId": "081d19dc-f1f5-4dea-f08c-1d555edddb60",
        "colab": {
          "base_uri": "https://localhost:8080/"
        },
        "id": "opL44vkzxQMp"
      },
      "execution_count": 9,
      "outputs": [
        {
          "output_type": "stream",
          "name": "stdout",
          "text": [
            "Real News dataframe info:\n",
            "<class 'pandas.core.frame.DataFrame'>\n",
            "RangeIndex: 21417 entries, 0 to 21416\n",
            "Data columns (total 4 columns):\n",
            " #   Column   Non-Null Count  Dtype \n",
            "---  ------   --------------  ----- \n",
            " 0   title    21417 non-null  object\n",
            " 1   text     21417 non-null  object\n",
            " 2   subject  21417 non-null  object\n",
            " 3   date     21417 non-null  object\n",
            "dtypes: object(4)\n",
            "memory usage: 669.4+ KB\n",
            "None\n",
            "\n",
            "\n",
            "First few rows of Real News DataFrame:\n",
            "                                               title  \\\n",
            "0  As U.S. budget fight looms, Republicans flip t...   \n",
            "1  U.S. military to accept transgender recruits o...   \n",
            "2  Senior U.S. Republican senator: 'Let Mr. Muell...   \n",
            "3  FBI Russia probe helped by Australian diplomat...   \n",
            "4  Trump wants Postal Service to charge 'much mor...   \n",
            "\n",
            "                                                text       subject  \\\n",
            "0  WASHINGTON (Reuters) - The head of a conservat...  politicsNews   \n",
            "1  WASHINGTON (Reuters) - Transgender people will...  politicsNews   \n",
            "2  WASHINGTON (Reuters) - The special counsel inv...  politicsNews   \n",
            "3  WASHINGTON (Reuters) - Trump campaign adviser ...  politicsNews   \n",
            "4  SEATTLE/WASHINGTON (Reuters) - President Donal...  politicsNews   \n",
            "\n",
            "                 date  \n",
            "0  December 31, 2017   \n",
            "1  December 29, 2017   \n",
            "2  December 31, 2017   \n",
            "3  December 30, 2017   \n",
            "4  December 29, 2017   \n"
          ]
        }
      ]
    },
    {
      "cell_type": "markdown",
      "source": [
        "**Observations on the datasets based on their structure**\n",
        "\n",
        "After loading the two datasets into dataframes, and inspecting them by printing its basic properties and its first few rows, it can be determined that the datasets consist of:\n",
        "- 4 data columns\n",
        "- The rows of each column contain text\n",
        "- The columns contain the following information for each news article:\n",
        "  1. title\n",
        "  2. text\n",
        "  3. subject\n",
        "  4. date\n",
        "\n",
        "Thus far, it could be said that the most relevant text information that can be used to classify each news article would be contained in the *title* and *text* columns.\n",
        "\n",
        "The specific *date* information *may* be irrelevant for the classification if the articles are all pulled from the same relatively short time frame.\n",
        "\n",
        "The *subject* column may contain similar or repeated subjects.\n",
        "\n",
        "The Kaggle page for this dataset somewhat confirms the last two paragraphs. The time frame for the Fake News set is 30-Mar-15 to 18-Feb-18, while for the Real News set it is 12-Jan-16 to 30-Dec-17. 68% of the subjects for the Fake News set is made up of the generic 'News' and 'Politics' subjects, while the Real News set is entirely made up of the subjects 'politicsNews' and 'worldNews'.\n",
        "\n",
        "The ```info``` method of the pandas library indicates that there are no missing values on either set. The Kaggle page however indicates that 3% of the data from the Fake News set is empty."
      ],
      "metadata": {
        "id": "ULTRXRGHxsvY"
      }
    },
    {
      "cell_type": "markdown",
      "source": [
        "##🚫 Handle missing values in text data if *present*"
      ],
      "metadata": {
        "id": "5RVApWLApytD"
      }
    },
    {
      "cell_type": "markdown",
      "source": [
        "Considering the information from the Kaggle page, that there are certain *empty* text rows on the datasets, we check this fact in order to later drop the necessary empty rows from the dataframes."
      ],
      "metadata": {
        "id": "drox8pLhDtlZ"
      }
    },
    {
      "cell_type": "code",
      "source": [
        "# Iterate through the column dataframes, and then through the title and text\n",
        "# columns to count how many have empty space values\n",
        "for dataframe in (df1, df2):\n",
        "  for column in ('title', 'text'):\n",
        "    empty_space_count = 0\n",
        "    for value in dataframe[column]:\n",
        "      if value.isspace(): empty_space_count += 1\n",
        "    print(f\"Number of values filled with empty spaces in: {empty_space_count}\")"
      ],
      "metadata": {
        "colab": {
          "base_uri": "https://localhost:8080/"
        },
        "id": "XTbgWaN1AvbB",
        "outputId": "02b7ffad-bb0e-4042-9770-e5213ba93607"
      },
      "execution_count": 10,
      "outputs": [
        {
          "output_type": "stream",
          "name": "stdout",
          "text": [
            "Number of values filled with empty spaces in: 0\n",
            "Number of values filled with empty spaces in: 630\n",
            "Number of values filled with empty spaces in: 0\n",
            "Number of values filled with empty spaces in: 1\n"
          ]
        }
      ]
    },
    {
      "cell_type": "markdown",
      "source": [
        "The previous code block indicates that, as a whole, there are several text rows in the *text* columns. We will drop these rows before we continue with text preprocessing"
      ],
      "metadata": {
        "id": "lW4hClfTVaYX"
      }
    },
    {
      "cell_type": "code",
      "source": [
        "# Drop rows with strings filled with empty spaces (whitespace)\n",
        "df1 = df1[df1.applymap(lambda x: not isinstance(x, str) or x.strip() != '').all(axis=1)]\n",
        "df2 = df2[df2.applymap(lambda x: not isinstance(x, str) or x.strip() != '').all(axis=1)]\n",
        "\n",
        "# Print new dataframes info and check for empty spaces again\n",
        "for dataframe in (df1, df2):\n",
        "  print(dataframe.info())\n",
        "  for column in ('title', 'text'):\n",
        "    empty_space_count = 0\n",
        "    for value in dataframe[column]:\n",
        "      if value.isspace(): empty_space_count += 1\n",
        "    print(f\"Number of values filled with empty spaces in: {empty_space_count}\")"
      ],
      "metadata": {
        "colab": {
          "base_uri": "https://localhost:8080/"
        },
        "id": "GCJHDf4-VxhR",
        "outputId": "72742b73-33e2-45f0-cc53-6fd040707e33"
      },
      "execution_count": 11,
      "outputs": [
        {
          "output_type": "stream",
          "name": "stdout",
          "text": [
            "<class 'pandas.core.frame.DataFrame'>\n",
            "Int64Index: 22851 entries, 0 to 23480\n",
            "Data columns (total 4 columns):\n",
            " #   Column   Non-Null Count  Dtype \n",
            "---  ------   --------------  ----- \n",
            " 0   title    22851 non-null  object\n",
            " 1   text     22851 non-null  object\n",
            " 2   subject  22851 non-null  object\n",
            " 3   date     22851 non-null  object\n",
            "dtypes: object(4)\n",
            "memory usage: 892.6+ KB\n",
            "None\n",
            "Number of values filled with empty spaces in: 0\n",
            "Number of values filled with empty spaces in: 0\n",
            "<class 'pandas.core.frame.DataFrame'>\n",
            "Int64Index: 21416 entries, 0 to 21416\n",
            "Data columns (total 4 columns):\n",
            " #   Column   Non-Null Count  Dtype \n",
            "---  ------   --------------  ----- \n",
            " 0   title    21416 non-null  object\n",
            " 1   text     21416 non-null  object\n",
            " 2   subject  21416 non-null  object\n",
            " 3   date     21416 non-null  object\n",
            "dtypes: object(4)\n",
            "memory usage: 836.6+ KB\n",
            "None\n",
            "Number of values filled with empty spaces in: 0\n",
            "Number of values filled with empty spaces in: 0\n"
          ]
        }
      ]
    },
    {
      "cell_type": "markdown",
      "source": [
        "##🔄 Perform text preprocessing steps"
      ],
      "metadata": {
        "id": "UrtKWFvUB_1X"
      }
    },
    {
      "cell_type": "markdown",
      "source": [
        "**Considerations before preprocessing**\n",
        "\n",
        "Before performing text preprocessing, the two sets will be unified into a single dataset with the following columns: title, text, label (0 fake, 1 real). With the added label column, a first step in the preprocessing task, Encoding Categorical Labels, is already achieved.\n",
        "\n",
        "The subject column has been dropped with the working assumption that due to the apparent uniformity in the subjects, these categorization of the news will not be significantly relevant to the classification task.\n",
        "\n",
        "The date column has been dropped since, even though it could also be used to classify these kind of news by pattern seeking in the distribution of the dates, it is not relevant for classification at an NLP level."
      ],
      "metadata": {
        "id": "l2RpQmcDDD1X"
      }
    },
    {
      "cell_type": "markdown",
      "source": [
        "###Merging datasets, dropping subject and date columns, adding label and category column"
      ],
      "metadata": {
        "id": "zLOAfECY-yRq"
      }
    },
    {
      "cell_type": "code",
      "source": [
        "# Merge the DataFrames, selecting specific columns\n",
        "df = pd.concat([df1[['title', 'text']], df2[['title', 'text']]])\n",
        "\n",
        "# Add a new column to indicate the source (0 for Fake News df1, 1 for Real News df2)\n",
        "df['category'] = ['Fake'] * len(df1) + ['Real'] * len(df2)\n",
        "df['label'] = [0] * len(df1) + [1] * len(df2)\n",
        "\n",
        "# Reset the index\n",
        "df.reset_index(drop=True, inplace=True)\n",
        "\n",
        "# Printing new merged dataframe info\n",
        "print(df.info())\n",
        "#print(df.head())\n",
        "#print(df.tail())\n",
        "print('\\n')\n",
        "\n",
        "# Change data type of 'label' column from int64 to int32\n",
        "df['label'] = df['label'].astype('int32')\n",
        "\n",
        "# Randomly reorder the rows\n",
        "df = df.sample(frac=1).reset_index(drop=True)\n",
        "# Printing new merged dataframe info\n",
        "print(df.info())\n",
        "#print(df.head())\n",
        "#print(df.tail())"
      ],
      "metadata": {
        "colab": {
          "base_uri": "https://localhost:8080/"
        },
        "id": "tUV75aPzp16W",
        "outputId": "8530683d-02bc-46fe-b437-4c77ca865de3"
      },
      "execution_count": 12,
      "outputs": [
        {
          "output_type": "stream",
          "name": "stdout",
          "text": [
            "<class 'pandas.core.frame.DataFrame'>\n",
            "RangeIndex: 44267 entries, 0 to 44266\n",
            "Data columns (total 4 columns):\n",
            " #   Column    Non-Null Count  Dtype \n",
            "---  ------    --------------  ----- \n",
            " 0   title     44267 non-null  object\n",
            " 1   text      44267 non-null  object\n",
            " 2   category  44267 non-null  object\n",
            " 3   label     44267 non-null  int64 \n",
            "dtypes: int64(1), object(3)\n",
            "memory usage: 1.4+ MB\n",
            "None\n",
            "\n",
            "\n",
            "<class 'pandas.core.frame.DataFrame'>\n",
            "RangeIndex: 44267 entries, 0 to 44266\n",
            "Data columns (total 4 columns):\n",
            " #   Column    Non-Null Count  Dtype \n",
            "---  ------    --------------  ----- \n",
            " 0   title     44267 non-null  object\n",
            " 1   text      44267 non-null  object\n",
            " 2   category  44267 non-null  object\n",
            " 3   label     44267 non-null  int32 \n",
            "dtypes: int32(1), object(3)\n",
            "memory usage: 1.2+ MB\n",
            "None\n"
          ]
        }
      ]
    },
    {
      "cell_type": "markdown",
      "source": [
        "###Applying basic preprocessing techniques"
      ],
      "metadata": {
        "id": "zOFbJi9-jebu"
      }
    },
    {
      "cell_type": "markdown",
      "source": [
        "Importing libaries to be used and define basic preprocessing techniques functions"
      ],
      "metadata": {
        "id": "KVySfvM7l_sk"
      }
    },
    {
      "cell_type": "code",
      "source": [
        "import pandas as pd\n",
        "import string\n",
        "import nltk\n",
        "from nltk.corpus import stopwords\n",
        "from nltk.tokenize import word_tokenize\n",
        "\n",
        "#Not used yet, for visualization techniques\n",
        "from wordcloud import WordCloud\n",
        "from nltk import FreqDist\n",
        "import matplotlib.pyplot as plt\n",
        "\n",
        "# Initialize NLTK resources\n",
        "nltk.download('punkt')\n",
        "nltk.download('stopwords')\n",
        "nltk.download('wordnet')"
      ],
      "metadata": {
        "colab": {
          "base_uri": "https://localhost:8080/"
        },
        "id": "6JInOSH1jmU2",
        "outputId": "df10bc2e-eb2d-4bf3-f778-8c220e670167"
      },
      "execution_count": 7,
      "outputs": [
        {
          "output_type": "stream",
          "name": "stderr",
          "text": [
            "[nltk_data] Downloading package punkt to /root/nltk_data...\n",
            "[nltk_data]   Unzipping tokenizers/punkt.zip.\n",
            "[nltk_data] Downloading package stopwords to /root/nltk_data...\n",
            "[nltk_data]   Unzipping corpora/stopwords.zip.\n",
            "[nltk_data] Downloading package wordnet to /root/nltk_data...\n"
          ]
        },
        {
          "output_type": "execute_result",
          "data": {
            "text/plain": [
              "True"
            ]
          },
          "metadata": {},
          "execution_count": 7
        }
      ]
    },
    {
      "cell_type": "markdown",
      "source": [
        "Defining preprocessing techniques"
      ],
      "metadata": {
        "id": "avNYmRC5zICt"
      }
    },
    {
      "cell_type": "code",
      "source": [
        "# Basic preprocessing techniques\n",
        "def text_preprocessing(text):\n",
        "    # Lowercase the text\n",
        "    text = text.lower()\n",
        "\n",
        "    # Remove leading/trailing whitespaces\n",
        "    text = text.strip()\n",
        "\n",
        "    # Tokenization\n",
        "    tokens = word_tokenize(text)\n",
        "\n",
        "    # Remove punctuation and stop words\n",
        "    tokens = [word for word in tokens if word not in string.punctuation]\n",
        "    tokens = [word for word in tokens if word not in stopwords.words('english')]\n",
        "\n",
        "    # Rejoin the tokens into a cleaned text\n",
        "    cleaned_text = ' '.join(tokens)\n",
        "\n",
        "    return cleaned_text"
      ],
      "metadata": {
        "id": "ewoxTSkEzKw0"
      },
      "execution_count": 14,
      "outputs": []
    },
    {
      "cell_type": "markdown",
      "source": [
        "Applying basic preprocessing to datasets"
      ],
      "metadata": {
        "id": "QcUQ-d_tmJQ3"
      }
    },
    {
      "cell_type": "code",
      "source": [
        "# Apply text preprocessing to dataset\n",
        "df['clean_text'] = df['text'].apply(text_preprocessing)"
      ],
      "metadata": {
        "id": "Rm15UUSgmJ-d"
      },
      "execution_count": 15,
      "outputs": []
    },
    {
      "cell_type": "markdown",
      "source": [
        "##✨ Provide a clean, preprocessed text dataset with extensive documentation"
      ],
      "metadata": {
        "id": "yfhUxC10p-H-"
      }
    },
    {
      "cell_type": "markdown",
      "source": [
        "The clean processed dataset consists of the following 5 columns of data:\n",
        "- *title*: News article title (string object)\n",
        "- *text*: News article text (string object)\n",
        "- *category*: A string indicating whether the article is 'Real' or 'Fake' (string object)\n",
        "- *label*: A numeric label indicating whether the article is Real (1) or Fake (0) (integer)\n",
        "- *clean_text*: Preprocessed text tokens joined in a single string with spaces ' '. The preprocessing steps included lowercasing, removing leading/trailing whitespaces, removing punctuation and stop words.\n",
        "\n",
        "There are no rows of data which contain empty data.\n",
        "\n",
        "The rows of data have been randomly reordered from the original dataset so that fake and real news are not grouped in the final dataset."
      ],
      "metadata": {
        "id": "9Pa4j9kL2EXB"
      }
    },
    {
      "cell_type": "code",
      "source": [
        "print(df.info())\n",
        "print(df.head())\n",
        "#print(df.tail())"
      ],
      "metadata": {
        "colab": {
          "base_uri": "https://localhost:8080/"
        },
        "id": "u8mHiUpMqBkM",
        "outputId": "f72c368f-ae1b-4eac-ab1f-87f97fa66afb"
      },
      "execution_count": 8,
      "outputs": [
        {
          "output_type": "stream",
          "name": "stdout",
          "text": [
            "<class 'pandas.core.frame.DataFrame'>\n",
            "RangeIndex: 44267 entries, 0 to 44266\n",
            "Data columns (total 5 columns):\n",
            " #   Column      Non-Null Count  Dtype \n",
            "---  ------      --------------  ----- \n",
            " 0   title       44267 non-null  object\n",
            " 1   text        44267 non-null  object\n",
            " 2   category    44267 non-null  object\n",
            " 3   label       44267 non-null  int64 \n",
            " 4   clean_text  44266 non-null  object\n",
            "dtypes: int64(1), object(4)\n",
            "memory usage: 1.7+ MB\n",
            "None\n",
            "                                               title  \\\n",
            "0  FULL SPEECH: Donald Trump Speaks to 20,000 PLU...   \n",
            "1  HILLARY’S ANTI-TRUMP MUSLIM DAD Claims Terror ...   \n",
            "2  OAS says Honduran presidential election should...   \n",
            "3  Exclusive: Displaced Rohingya in camps face ai...   \n",
            "4  Sunnistan: US and Allied ‘Safe Zone’ Plan to T...   \n",
            "\n",
            "                                                text category  label  \\\n",
            "0  Donald Trump is doing exactly the opposite of ...     Fake      0   \n",
            "1  We ve inserted our thoughts and a few tweets t...     Fake      0   \n",
            "2  TEGUCIGALPA (Reuters) - The Organization of Am...     Real      1   \n",
            "3  SITTWE, Myanmar (Reuters) - Around 120,000 dis...     Real      1   \n",
            "4  Patrick Henningsen  21st Century WireRemember ...     Fake      0   \n",
            "\n",
            "                                          clean_text  \n",
            "0  donald trump exactly opposite critics said wou...  \n",
            "1  inserted thoughts tweets throughout article co...  \n",
            "2  tegucigalpa reuters organization american stat...  \n",
            "3  sittwe myanmar reuters around 120,000 displace...  \n",
            "4  patrick henningsen 21st century wireremember o...  \n"
          ]
        }
      ]
    },
    {
      "cell_type": "markdown",
      "source": [
        "Saving the resulting clean dataset:"
      ],
      "metadata": {
        "id": "65AZ56loDeyu"
      }
    },
    {
      "cell_type": "code",
      "source": [
        "# Save the DataFrame to a CSV file\n",
        "# Exclude the DataFrame index from the CSV (index=False)\n",
        "df.to_csv('clean_dataset.csv', index=False)"
      ],
      "metadata": {
        "id": "oOmqV1V2Dd-D"
      },
      "execution_count": 21,
      "outputs": []
    },
    {
      "cell_type": "markdown",
      "source": [
        "#2️⃣ Text Analysis and Feature Extraction"
      ],
      "metadata": {
        "id": "bjZBv6e4obM8"
      }
    },
    {
      "cell_type": "markdown",
      "source": [
        "###Upload clean_dataset.csv (only if needed due to discconnection from runtime)"
      ],
      "metadata": {
        "id": "qXR-gkh6yRrO"
      }
    },
    {
      "cell_type": "markdown",
      "source": [
        "Load clean_dataset.zip from Google Drive"
      ],
      "metadata": {
        "id": "Tw8msfNPwjDn"
      }
    },
    {
      "cell_type": "code",
      "source": [
        "# Mount Google Drive\n",
        "from google.colab import drive\n",
        "drive.mount('/content/drive')\n",
        "\n",
        "# Define the path to the file in your Google Drive\n",
        "# Replace 'folder' with the corresponding Google Drive Folder\n",
        "# where the file is located\n",
        "folder = 'Technical Assessment - DS'\n",
        "file_path = '/content/drive/My Drive/' + folder + '/clean_dataset.zip'\n",
        "\n",
        "# Copy the file to Colab's local directory\n",
        "import shutil\n",
        "shutil.copy(file_path, '/content')\n",
        "\n",
        "# Verify that the file has been copied\n",
        "import os\n",
        "os.listdir('/content')"
      ],
      "metadata": {
        "colab": {
          "base_uri": "https://localhost:8080/"
        },
        "id": "S7zNPLMNww48",
        "outputId": "af010c89-7362-4703-8adc-cc48ceabe6e1"
      },
      "execution_count": 1,
      "outputs": [
        {
          "output_type": "stream",
          "name": "stdout",
          "text": [
            "Mounted at /content/drive\n"
          ]
        },
        {
          "output_type": "execute_result",
          "data": {
            "text/plain": [
              "['.config', 'clean_dataset.zip', 'drive', 'sample_data']"
            ]
          },
          "metadata": {},
          "execution_count": 1
        }
      ]
    },
    {
      "cell_type": "markdown",
      "source": [
        "Extract clean_dataset.csv from zip file"
      ],
      "metadata": {
        "id": "yj_y6MBi4RUw"
      }
    },
    {
      "cell_type": "code",
      "source": [
        "# Import 'zipfile' module\n",
        "import zipfile\n",
        "\n",
        "# Specify the path to the zip file with the dataset\n",
        "zip_file_path = 'clean_dataset.zip'\n",
        "\n",
        "# Specify the directory where the files are to be extracted\n",
        "extract_dir = '/content'\n",
        "\n",
        "# Extract the files\n",
        "with zipfile.ZipFile(zip_file_path, 'r') as zip_ref:\n",
        "    zip_ref.extractall(extract_dir)\n",
        "\n",
        "!ls"
      ],
      "metadata": {
        "colab": {
          "base_uri": "https://localhost:8080/"
        },
        "id": "Rf1Jw_Gg3u7i",
        "outputId": "87e761de-fba4-4ce7-a06b-ad30fe4f3001"
      },
      "execution_count": 2,
      "outputs": [
        {
          "output_type": "stream",
          "name": "stdout",
          "text": [
            "clean_dataset.csv  clean_dataset.zip  drive  sample_data\n"
          ]
        }
      ]
    },
    {
      "cell_type": "markdown",
      "source": [
        "Sabe clean_dataset.csv into a dataframe object"
      ],
      "metadata": {
        "id": "s8tGPe9o4WRu"
      }
    },
    {
      "cell_type": "code",
      "source": [
        "# Import pandas library\n",
        "import pandas as pd\n",
        "\n",
        "# Load the dataset files into Pandas DataFrames\n",
        "df = pd.read_csv('clean_dataset.csv')\n",
        "\n",
        "print(df.info())\n",
        "print(df.head())"
      ],
      "metadata": {
        "colab": {
          "base_uri": "https://localhost:8080/"
        },
        "id": "niUYUWz1y0RK",
        "outputId": "440dff8f-9aa0-4529-e771-1ff3e7137cda"
      },
      "execution_count": 28,
      "outputs": [
        {
          "output_type": "stream",
          "name": "stdout",
          "text": [
            "<class 'pandas.core.frame.DataFrame'>\n",
            "RangeIndex: 44267 entries, 0 to 44266\n",
            "Data columns (total 5 columns):\n",
            " #   Column      Non-Null Count  Dtype \n",
            "---  ------      --------------  ----- \n",
            " 0   title       44267 non-null  object\n",
            " 1   text        44267 non-null  object\n",
            " 2   category    44267 non-null  object\n",
            " 3   label       44267 non-null  int64 \n",
            " 4   clean_text  44266 non-null  object\n",
            "dtypes: int64(1), object(4)\n",
            "memory usage: 1.7+ MB\n",
            "None\n",
            "                                               title  \\\n",
            "0  FULL SPEECH: Donald Trump Speaks to 20,000 PLU...   \n",
            "1  HILLARY’S ANTI-TRUMP MUSLIM DAD Claims Terror ...   \n",
            "2  OAS says Honduran presidential election should...   \n",
            "3  Exclusive: Displaced Rohingya in camps face ai...   \n",
            "4  Sunnistan: US and Allied ‘Safe Zone’ Plan to T...   \n",
            "\n",
            "                                                text category  label  \\\n",
            "0  Donald Trump is doing exactly the opposite of ...     Fake      0   \n",
            "1  We ve inserted our thoughts and a few tweets t...     Fake      0   \n",
            "2  TEGUCIGALPA (Reuters) - The Organization of Am...     Real      1   \n",
            "3  SITTWE, Myanmar (Reuters) - Around 120,000 dis...     Real      1   \n",
            "4  Patrick Henningsen  21st Century WireRemember ...     Fake      0   \n",
            "\n",
            "                                          clean_text  \n",
            "0  donald trump exactly opposite critics said wou...  \n",
            "1  inserted thoughts tweets throughout article co...  \n",
            "2  tegucigalpa reuters organization american stat...  \n",
            "3  sittwe myanmar reuters around 120,000 displace...  \n",
            "4  patrick henningsen 21st century wireremember o...  \n"
          ]
        }
      ]
    },
    {
      "cell_type": "markdown",
      "source": [
        "##📝 Conduct text analysis to gain insights from the text data"
      ],
      "metadata": {
        "id": "2nhN7KztqOtU"
      }
    },
    {
      "cell_type": "markdown",
      "source": [
        "###Basic statistics and keyword analysis"
      ],
      "metadata": {
        "id": "9ywBgnqeqQtb"
      }
    },
    {
      "cell_type": "markdown",
      "source": [
        "###Histogram with the number of tokens for 'Real' and 'Fake' news"
      ],
      "metadata": {
        "id": "YA47HMjFJCVw"
      }
    },
    {
      "cell_type": "markdown",
      "source": [
        "Importing required libraries and creating column with number of tokens"
      ],
      "metadata": {
        "id": "blidEmrmMoaf"
      }
    },
    {
      "cell_type": "markdown",
      "source": [
        "The following code cell was written because the dataframe presented an error when calling the ```word_tokenize````method after the data loaded in df came from a downloaded source. The error did not appear before, so the code here is presented just in case."
      ],
      "metadata": {
        "id": "YwLfi9eZo0IM"
      }
    },
    {
      "cell_type": "code",
      "source": [
        "# Count the number of 'None' values in the 'clean_text' column\n",
        "num_none_values = df['clean_text'].isna().sum()\n",
        "\n",
        "# Print the count\n",
        "print(f'Number of \"None\" values in the clean_text column: {num_none_values}')\n",
        "\n",
        "# Drop rows with 'None' values in the 'clean_text' column\n",
        "df.dropna(subset=['clean_text'], inplace=True)\n",
        "df.reset_index(drop=True, inplace=True)\n",
        "\n",
        "print(df.info())"
      ],
      "metadata": {
        "colab": {
          "base_uri": "https://localhost:8080/"
        },
        "id": "yJU38RAkoPgl",
        "outputId": "b4c7391f-71eb-4e9f-8edf-04f3903b2b7a"
      },
      "execution_count": 32,
      "outputs": [
        {
          "output_type": "stream",
          "name": "stdout",
          "text": [
            "Number of \"None\" values in the clean_text column: 0\n",
            "<class 'pandas.core.frame.DataFrame'>\n",
            "RangeIndex: 44266 entries, 0 to 44265\n",
            "Data columns (total 5 columns):\n",
            " #   Column      Non-Null Count  Dtype \n",
            "---  ------      --------------  ----- \n",
            " 0   title       44266 non-null  object\n",
            " 1   text        44266 non-null  object\n",
            " 2   category    44266 non-null  object\n",
            " 3   label       44266 non-null  int64 \n",
            " 4   clean_text  44266 non-null  object\n",
            "dtypes: int64(1), object(4)\n",
            "memory usage: 1.7+ MB\n",
            "None\n"
          ]
        }
      ]
    },
    {
      "cell_type": "code",
      "source": [
        "import pandas as pd\n",
        "import matplotlib.pyplot as plt\n",
        "import nltk\n",
        "from nltk.tokenize import word_tokenize\n",
        "\n",
        "nltk.download('punkt')\n",
        "nltk.download('wordnet')\n",
        "\n",
        "# Tokenize the 'clean_text' column and count the number of tokens\n",
        "df['num_tokens'] = df['clean_text'].apply(lambda x: len(word_tokenize(x)))\n",
        "\n",
        "# Separate data for 'Real' and 'Fake' categories\n",
        "real_tokens = df[df['category'] == 'Real']['num_tokens']\n",
        "fake_tokens = df[df['category'] == 'Fake']['num_tokens']"
      ],
      "metadata": {
        "colab": {
          "base_uri": "https://localhost:8080/"
        },
        "id": "u7UxlmUtqSHW",
        "outputId": "bda6b96b-6afa-4961-9fd0-b6bd8a00ff30"
      },
      "execution_count": 34,
      "outputs": [
        {
          "output_type": "stream",
          "name": "stderr",
          "text": [
            "[nltk_data] Downloading package punkt to /root/nltk_data...\n",
            "[nltk_data]   Package punkt is already up-to-date!\n",
            "[nltk_data] Downloading package wordnet to /root/nltk_data...\n",
            "[nltk_data]   Package wordnet is already up-to-date!\n"
          ]
        }
      ]
    },
    {
      "cell_type": "markdown",
      "source": [
        "Plotting histogram"
      ],
      "metadata": {
        "id": "pGJXlnAbMhsh"
      }
    },
    {
      "cell_type": "code",
      "source": [
        "# Create a histogram for 'Real' and 'Fake' tokens\n",
        "plt.hist([real_tokens, fake_tokens], bins=12, alpha=1, label=['Real', 'Fake'])\n",
        "plt.xlabel('Number of Tokens')\n",
        "plt.ylabel('Frequency')\n",
        "plt.title('Histogram of Number of Tokens for Real and Fake News')\n",
        "plt.legend()\n",
        "plt.show()"
      ],
      "metadata": {
        "colab": {
          "base_uri": "https://localhost:8080/",
          "height": 472
        },
        "id": "5iKHLwrFKyfW",
        "outputId": "9a82989b-d4b3-4b9b-f276-f057558a92fa"
      },
      "execution_count": 35,
      "outputs": [
        {
          "output_type": "display_data",
          "data": {
            "text/plain": [
              "<Figure size 640x480 with 1 Axes>"
            ],
            "image/png": "[encoded data removed]"
          },
          "metadata": {}
        }
      ]
    },
    {
      "cell_type": "markdown",
      "source": [
        "Seeing as how the data is more dense on the lower values for the number of tokens, the histogram is redrawn reducing the range for this value"
      ],
      "metadata": {
        "id": "vbbd6IX1rEfg"
      }
    },
    {
      "cell_type": "code",
      "source": [
        "# Set a specific range for the x-axis to focus on lower, more significant values\n",
        "x_range = (0, 1000)\n",
        "\n",
        "# Create a histogram for 'Real' and 'Fake' tokens\n",
        "plt.hist([real_tokens, fake_tokens], bins=12, range=x_range, alpha=1, label=['Real', 'Fake'])\n",
        "plt.xlabel('Number of Tokens')\n",
        "plt.ylabel('Frequency')\n",
        "plt.title('Histogram of Number of Tokens for Real and Fake News')\n",
        "plt.legend()\n",
        "plt.show()"
      ],
      "metadata": {
        "colab": {
          "base_uri": "https://localhost:8080/",
          "height": 472
        },
        "outputId": "a3cd2a2d-2632-4c9e-fd5e-f8fd35ad99b3",
        "id": "I-9Oqubwq7a8"
      },
      "execution_count": 36,
      "outputs": [
        {
          "output_type": "display_data",
          "data": {
            "text/plain": [
              "<Figure size 640x480 with 1 Axes>"
            ],
            "image/png": "[encoded data removed]"
          },
          "metadata": {}
        }
      ]
    },
    {
      "cell_type": "markdown",
      "source": [
        "There is a noticeable difference in the distribution of the number of tokens between Fake and Real news for the lower values of this number."
      ],
      "metadata": {
        "id": "QMyiqR_6rc8n"
      }
    },
    {
      "cell_type": "markdown",
      "source": [
        "###Frequency distribution plots"
      ],
      "metadata": {
        "id": "_bn8tISTMygs"
      }
    },
    {
      "cell_type": "code",
      "source": [
        "import pandas as pd\n",
        "import nltk\n",
        "from nltk import FreqDist\n",
        "import matplotlib.pyplot as plt"
      ],
      "metadata": {
        "id": "4AvufxuINYt8"
      },
      "execution_count": 37,
      "outputs": []
    },
    {
      "cell_type": "code",
      "source": [
        "# Tokenize and flatten the 'clean_text' column to create a list of all tokens\n",
        "all_tokens = [token for text in df['clean_text'] for token in nltk.word_tokenize(text)]\n",
        "\n",
        "# Create frequency distributions for 'Real' and 'Fake' news\n",
        "real_tokens = [token for text in df[df['category'] == 'Real']['clean_text'] for token in nltk.word_tokenize(text)]\n",
        "fake_tokens = [token for text in df[df['category'] == 'Fake']['clean_text'] for token in nltk.word_tokenize(text)]\n",
        "\n",
        "real_freq_dist = FreqDist(real_tokens)\n",
        "fake_freq_dist = FreqDist(fake_tokens)"
      ],
      "metadata": {
        "id": "DYoQuhGSM3HY"
      },
      "execution_count": 38,
      "outputs": []
    },
    {
      "cell_type": "markdown",
      "source": [
        "Top words frequencies for Real News"
      ],
      "metadata": {
        "id": "2-Gfg79UTQ_F"
      }
    },
    {
      "cell_type": "code",
      "source": [
        "# Set the number of top words to display in the plot\n",
        "num_top_words = 20\n",
        "\n",
        "# Get the top words and their frequencies from 'real_freq_dist'\n",
        "top_words_real = real_freq_dist.most_common(num_top_words)\n",
        "\n",
        "# Extract the top words and frequencies into separate lists\n",
        "top_words_real, top_word_frequencies_real = zip(*top_words_real)\n",
        "\n",
        "# Generate a bar plot for the top words and their frequencies\n",
        "plt.figure(figsize=(12, 6))\n",
        "plt.bar(top_words_real, top_word_frequencies_real)\n",
        "plt.xlabel('Words')\n",
        "plt.ylabel('Frequency')\n",
        "plt.title('Top Words and Their Frequencies in Real News')\n",
        "plt.xticks(rotation=45)  # Rotate x-axis labels for better readability\n",
        "plt.tight_layout()\n",
        "plt.show()"
      ],
      "metadata": {
        "colab": {
          "base_uri": "https://localhost:8080/",
          "height": 607
        },
        "id": "ErX54gtGRIer",
        "outputId": "8573897f-480f-435e-f198-b6be62c4e0f4"
      },
      "execution_count": 39,
      "outputs": [
        {
          "output_type": "display_data",
          "data": {
            "text/plain": [
              "<Figure size 1200x600 with 1 Axes>"
            ],
            "image/png": "[encoded data removed]"
          },
          "metadata": {}
        }
      ]
    },
    {
      "cell_type": "markdown",
      "source": [
        "From this plot, I can see that some of the 'top' words here are just special characters, as well as the word 'reuters' which is just the a name of a news agency, most likely from where the real news were obtained.\n",
        "\n",
        "These words will be dropped from the tokens in the column 'clean_text'"
      ],
      "metadata": {
        "id": "U3qFf2oexQ4G"
      }
    },
    {
      "cell_type": "code",
      "source": [
        "# Save words to be removed to a list\n",
        "words_to_remove = [top_words_real[1], top_words_real[3], top_words_real[4], top_words_real[7]]\n",
        "print('Words to be removed:', words_to_remove)\n",
        "\n",
        "# Function to remove specific words\n",
        "def remove_words(text, words_to_remove):\n",
        "    tokens = text.split()  # Split the text into tokens\n",
        "    cleaned_tokens = [word for word in tokens if word not in words_to_remove]\n",
        "    return ' '.join(cleaned_tokens)  # Join the cleaned tokens back into text\n",
        "\n",
        "# Apply the remove_words function to the 'clean_text' column\n",
        "df['clean_text'] = df['clean_text'].apply(lambda text: remove_words(text, words_to_remove))"
      ],
      "metadata": {
        "colab": {
          "base_uri": "https://localhost:8080/"
        },
        "id": "UwjukzI7xHNO",
        "outputId": "51fbeaa8-230d-4478-a36e-2c733019d623"
      },
      "execution_count": 46,
      "outputs": [
        {
          "output_type": "stream",
          "name": "stdout",
          "text": [
            "Words to be removed: ['’', '“', '”', 'reuters']\n"
          ]
        }
      ]
    },
    {
      "cell_type": "markdown",
      "source": [
        "The code blocks preceeding the Real News frequency histogram are repeated"
      ],
      "metadata": {
        "id": "02pcNrJbzfBi"
      }
    },
    {
      "cell_type": "code",
      "source": [
        "# Tokenize and flatten the 'clean_text' column to create a list of all tokens\n",
        "all_tokens = [token for text in df['clean_text'] for token in nltk.word_tokenize(text)]\n",
        "\n",
        "# Create frequency distributions for 'Real' and 'Fake' news\n",
        "real_tokens = [token for text in df[df['category'] == 'Real']['clean_text'] for token in nltk.word_tokenize(text)]\n",
        "fake_tokens = [token for text in df[df['category'] == 'Fake']['clean_text'] for token in nltk.word_tokenize(text)]\n",
        "\n",
        "real_freq_dist = FreqDist(real_tokens)\n",
        "fake_freq_dist = FreqDist(fake_tokens)"
      ],
      "metadata": {
        "id": "oy-KhANYzl5e"
      },
      "execution_count": 47,
      "outputs": []
    },
    {
      "cell_type": "code",
      "source": [
        "# Set the number of top words to display in the plot\n",
        "num_top_words = 20\n",
        "\n",
        "# Get the top words and their frequencies from 'real_freq_dist'\n",
        "top_words_real = real_freq_dist.most_common(num_top_words)\n",
        "\n",
        "# Extract the top words and frequencies into separate lists\n",
        "top_words_real, top_word_frequencies_real = zip(*top_words_real)\n",
        "\n",
        "# Generate a bar plot for the top words and their frequencies\n",
        "plt.figure(figsize=(12, 6))\n",
        "plt.bar(top_words_real, top_word_frequencies_real)\n",
        "plt.xlabel('Words')\n",
        "plt.ylabel('Frequency')\n",
        "plt.title('Top Words and Their Frequencies in Real News')\n",
        "plt.xticks(rotation=45)  # Rotate x-axis labels for better readability\n",
        "plt.tight_layout()\n",
        "plt.show()"
      ],
      "metadata": {
        "colab": {
          "base_uri": "https://localhost:8080/",
          "height": 607
        },
        "id": "S55TtsetzqGy",
        "outputId": "9a3cc1ed-f628-4727-a922-69fa4c6f878a"
      },
      "execution_count": 48,
      "outputs": [
        {
          "output_type": "display_data",
          "data": {
            "text/plain": [
              "<Figure size 1200x600 with 1 Axes>"
            ],
            "image/png": "[encoded data removed]"
          },
          "metadata": {}
        }
      ]
    },
    {
      "cell_type": "markdown",
      "source": [
        "Top words frequencies for Fake News"
      ],
      "metadata": {
        "id": "PnWCO6I9TWTc"
      }
    },
    {
      "cell_type": "code",
      "source": [
        "# Set the number of top words to display in the plot\n",
        "num_top_words = 20\n",
        "\n",
        "# Get the top words and their frequencies from 'real_freq_dist'\n",
        "top_words_fake = fake_freq_dist.most_common(num_top_words)\n",
        "\n",
        "# Extract the top words and frequencies into separate lists\n",
        "top_words_fake, top_word_frequencies_fake = zip(*top_words_fake)\n",
        "\n",
        "# Generate a bar plot for the top words and their frequencies\n",
        "plt.figure(figsize=(12, 6))\n",
        "plt.bar(top_words_fake, top_word_frequencies_fake, color='orange')\n",
        "plt.xlabel('Words')\n",
        "plt.ylabel('Frequency')\n",
        "plt.title('Top Words and Their Frequencies in Fake News')\n",
        "plt.xticks(rotation=45)  # Rotate x-axis labels for better readability\n",
        "plt.tight_layout()\n",
        "plt.show()"
      ],
      "metadata": {
        "colab": {
          "base_uri": "https://localhost:8080/",
          "height": 607
        },
        "outputId": "a21b0bf9-4655-48bb-d8bc-7e60e725b7c4",
        "id": "RASZUSAkTZkK"
      },
      "execution_count": 49,
      "outputs": [
        {
          "output_type": "display_data",
          "data": {
            "text/plain": [
              "<Figure size 1200x600 with 1 Axes>"
            ],
            "image/png": "[encoded data removed]"
          },
          "metadata": {}
        }
      ]
    },
    {
      "cell_type": "markdown",
      "source": [
        "A stark difference can also be seen in the top words frequencies for both datasets.\n",
        "\n",
        "The Fake news data set features the word 'trump' prominently in such a manner that the frequency for the next top word, 'said' drops considerably and then it only drops gradually for the next top words.\n",
        "\n",
        "The Real news dataset share the same two top words, but in inverse places. The drop in frequency for the top words is also smoother than in the case for the Fake news dataset, as previously exemplified."
      ],
      "metadata": {
        "id": "1YKQirzt0hVk"
      }
    },
    {
      "cell_type": "markdown",
      "source": [
        "###Number of unique terms"
      ],
      "metadata": {
        "id": "tPvVR3K-ZtVi"
      }
    },
    {
      "cell_type": "markdown",
      "source": [
        "The number of unique terms is of interest in the case of limiting the number of features to be considered for feature extraction next."
      ],
      "metadata": {
        "id": "abzi2hVE1hr6"
      }
    },
    {
      "cell_type": "code",
      "source": [
        "# Initialize the set to store unique terms\n",
        "unique_terms = set()\n",
        "\n",
        "# Tokenize and find unique terms\n",
        "for text in df['clean_text']:\n",
        "    words = nltk.word_tokenize(text)\n",
        "    unique_terms.update(words)\n",
        "\n",
        "# Get the number of unique terms\n",
        "num_unique_terms = len(unique_terms)\n",
        "\n",
        "print(f'Number of unique terms in the dataset: {num_unique_terms}')"
      ],
      "metadata": {
        "colab": {
          "base_uri": "https://localhost:8080/"
        },
        "id": "dIQyZAWQZv5O",
        "outputId": "c5766bc5-9b9b-4e94-fb3c-637df745a2fd"
      },
      "execution_count": 50,
      "outputs": [
        {
          "output_type": "stream",
          "name": "stdout",
          "text": [
            "Number of unique terms in the dataset: 221656\n"
          ]
        }
      ]
    },
    {
      "cell_type": "markdown",
      "source": [
        "##🛰️ Extract advanced features from text data"
      ],
      "metadata": {
        "id": "usb3XjJsqTJk"
      }
    },
    {
      "cell_type": "markdown",
      "source": [
        "###TF-IDF Vectorization"
      ],
      "metadata": {
        "id": "7aZ6nzrjqUQs"
      }
    },
    {
      "cell_type": "code",
      "source": [
        "from sklearn.model_selection import train_test_split\n",
        "from sklearn.feature_extraction.text import TfidfVectorizer\n",
        "\n",
        "# Split the DataFrame into training and testing sets\n",
        "x_train, x_test, y_train, y_test = train_test_split(df['clean_text'], df['category'], test_size=0.2, random_state=42)\n",
        "\n",
        "# Initialize the TF-IDF vectorizer\n",
        "tfidf_vectorizer = TfidfVectorizer(max_features=1000)  # Using a limited maximum of unique terms\n",
        "\n",
        "# Fit and transform the vectorizer on the training data\n",
        "x_train_tfidf = tfidf_vectorizer.fit_transform(x_train)\n",
        "x_test_tfidf = tfidf_vectorizer.transform(x_test)"
      ],
      "metadata": {
        "id": "-okGgcpDqVrj"
      },
      "execution_count": 51,
      "outputs": []
    },
    {
      "cell_type": "markdown",
      "source": [
        "###Word Embeddings"
      ],
      "metadata": {
        "id": "YhmCV1CJavJp"
      }
    },
    {
      "cell_type": "markdown",
      "source": [
        "Using the pre-trained \"word2vec-news-300d-1M\" FastText model to convert text into embeddings"
      ],
      "metadata": {
        "id": "KO5Mu3qdc6S9"
      }
    },
    {
      "cell_type": "code",
      "source": [
        "import pandas as pd\n",
        "import nltk\n",
        "import numpy as np\n",
        "from gensim.models import KeyedVectors\n",
        "\n",
        "# Downloading fasttext word vectors\n",
        "!wget https://dl.fbaipublicfiles.com/fasttext/vectors-english/wiki-news-300d-1M.vec.zip\n",
        "!unzip wiki-news-300d-1M.vec.zip\n",
        "!ls"
      ],
      "metadata": {
        "colab": {
          "base_uri": "https://localhost:8080/"
        },
        "id": "lu0GIIIkayC1",
        "outputId": "0db5e56e-6c04-4ae3-f48a-0b5ea5a410d1"
      },
      "execution_count": 45,
      "outputs": [
        {
          "output_type": "stream",
          "name": "stdout",
          "text": [
            "--2023-10-10 02:45:32--  https://dl.fbaipublicfiles.com/fasttext/vectors-english/wiki-news-300d-1M.vec.zip\n",
            "Resolving dl.fbaipublicfiles.com (dl.fbaipublicfiles.com)... 13.224.250.75, 13.224.250.44, 13.224.250.108, ...\n",
            "Connecting to dl.fbaipublicfiles.com (dl.fbaipublicfiles.com)|13.224.250.75|:443... connected.\n",
            "HTTP request sent, awaiting response... 200 OK\n",
            "Length: 681808098 (650M) [application/zip]\n",
            "Saving to: ‘wiki-news-300d-1M.vec.zip’\n",
            "\n",
            "wiki-news-300d-1M.v 100%[===================>] 650.22M  91.4MB/s    in 5.4s    \n",
            "\n",
            "2023-10-10 02:45:38 (121 MB/s) - ‘wiki-news-300d-1M.vec.zip’ saved [681808098/681808098]\n",
            "\n",
            "Archive:  wiki-news-300d-1M.vec.zip\n",
            "  inflating: wiki-news-300d-1M.vec   \n",
            "clean_dataset.csv\t\tTrue.csv\n",
            "fake-and-real-news-dataset.zip\twiki-news-300d-1M.vec\n",
            "Fake.csv\t\t\twiki-news-300d-1M.vec.zip\n",
            "sample_data\n"
          ]
        }
      ]
    },
    {
      "cell_type": "code",
      "source": [
        "# Load the pre-trained FastText model\n",
        "# Replace 'path/to/word2vec-news-300d-1M.vec' with the actual path to the downloaded model file\n",
        "word2vec_model = KeyedVectors.load_word2vec_format('wiki-news-300d-1M.vec', binary=False)\n",
        "\n",
        "# Function to convert text into embeddings (averaging word vectors)\n",
        "def text_to_embeddings(text, model):\n",
        "    words = nltk.word_tokenize(text)\n",
        "    embeddings = [model[word] for word in words if word in model.vocab]\n",
        "    if embeddings:\n",
        "        return np.mean(embeddings, axis=0)\n",
        "    else:\n",
        "        return np.zeros(model.vector_size)  # Return zeros for empty text\n",
        "\n",
        "# Convert text data to word embeddings using the loaded model\n",
        "df['word_embeddings'] = df['clean_text'].apply(lambda text: text_to_embeddings(text, word2vec_model))"
      ],
      "metadata": {
        "colab": {
          "base_uri": "https://localhost:8080/",
          "height": 390
        },
        "id": "ofoOrvudehLC",
        "outputId": "249dd081-b656-4885-d58e-0ba226e188d9"
      },
      "execution_count": 47,
      "outputs": [
        {
          "output_type": "error",
          "ename": "AttributeError",
          "evalue": "ignored",
          "traceback": [
            "\u001b[0;31m---------------------------------------------------------------------------\u001b[0m",
            "\u001b[0;31mAttributeError\u001b[0m                            Traceback (most recent call last)",
            "\u001b[0;32m<ipython-input-47-6d40ceca6a7e>\u001b[0m in \u001b[0;36m<cell line: 15>\u001b[0;34m()\u001b[0m\n\u001b[1;32m     13\u001b[0m \u001b[0;34m\u001b[0m\u001b[0m\n\u001b[1;32m     14\u001b[0m \u001b[0;31m# Convert text data to word embeddings using the loaded model\u001b[0m\u001b[0;34m\u001b[0m\u001b[0;34m\u001b[0m\u001b[0m\n\u001b[0;32m---> 15\u001b[0;31m \u001b[0mdf\u001b[0m\u001b[0;34m[\u001b[0m\u001b[0;34m'word_embeddings'\u001b[0m\u001b[0;34m]\u001b[0m \u001b[0;34m=\u001b[0m \u001b[0mdf\u001b[0m\u001b[0;34m[\u001b[0m\u001b[0;34m'clean_text'\u001b[0m\u001b[0;34m]\u001b[0m\u001b[0;34m.\u001b[0m\u001b[0mapply\u001b[0m\u001b[0;34m(\u001b[0m\u001b[0;32mlambda\u001b[0m \u001b[0mtext\u001b[0m\u001b[0;34m:\u001b[0m \u001b[0mtext_to_embeddings\u001b[0m\u001b[0;34m(\u001b[0m\u001b[0mtext\u001b[0m\u001b[0;34m,\u001b[0m \u001b[0mword2vec_model\u001b[0m\u001b[0;34m)\u001b[0m\u001b[0;34m)\u001b[0m\u001b[0;34m\u001b[0m\u001b[0;34m\u001b[0m\u001b[0m\n\u001b[0m",
            "\u001b[0;32m/usr/local/lib/python3.10/dist-packages/pandas/core/series.py\u001b[0m in \u001b[0;36mapply\u001b[0;34m(self, func, convert_dtype, args, **kwargs)\u001b[0m\n\u001b[1;32m   4769\u001b[0m         \u001b[0mdtype\u001b[0m\u001b[0;34m:\u001b[0m \u001b[0mfloat64\u001b[0m\u001b[0;34m\u001b[0m\u001b[0;34m\u001b[0m\u001b[0m\n\u001b[1;32m   4770\u001b[0m         \"\"\"\n\u001b[0;32m-> 4771\u001b[0;31m         \u001b[0;32mreturn\u001b[0m \u001b[0mSeriesApply\u001b[0m\u001b[0;34m(\u001b[0m\u001b[0mself\u001b[0m\u001b[0;34m,\u001b[0m \u001b[0mfunc\u001b[0m\u001b[0;34m,\u001b[0m \u001b[0mconvert_dtype\u001b[0m\u001b[0;34m,\u001b[0m \u001b[0margs\u001b[0m\u001b[0;34m,\u001b[0m \u001b[0mkwargs\u001b[0m\u001b[0;34m)\u001b[0m\u001b[0;34m.\u001b[0m\u001b[0mapply\u001b[0m\u001b[0;34m(\u001b[0m\u001b[0;34m)\u001b[0m\u001b[0;34m\u001b[0m\u001b[0;34m\u001b[0m\u001b[0m\n\u001b[0m\u001b[1;32m   4772\u001b[0m \u001b[0;34m\u001b[0m\u001b[0m\n\u001b[1;32m   4773\u001b[0m     def _reduce(\n",
            "\u001b[0;32m/usr/local/lib/python3.10/dist-packages/pandas/core/apply.py\u001b[0m in \u001b[0;36mapply\u001b[0;34m(self)\u001b[0m\n\u001b[1;32m   1121\u001b[0m \u001b[0;34m\u001b[0m\u001b[0m\n\u001b[1;32m   1122\u001b[0m         \u001b[0;31m# self.f is Callable\u001b[0m\u001b[0;34m\u001b[0m\u001b[0;34m\u001b[0m\u001b[0m\n\u001b[0;32m-> 1123\u001b[0;31m         \u001b[0;32mreturn\u001b[0m \u001b[0mself\u001b[0m\u001b[0;34m.\u001b[0m\u001b[0mapply_standard\u001b[0m\u001b[0;34m(\u001b[0m\u001b[0;34m)\u001b[0m\u001b[0;34m\u001b[0m\u001b[0;34m\u001b[0m\u001b[0m\n\u001b[0m\u001b[1;32m   1124\u001b[0m \u001b[0;34m\u001b[0m\u001b[0m\n\u001b[1;32m   1125\u001b[0m     \u001b[0;32mdef\u001b[0m \u001b[0magg\u001b[0m\u001b[0;34m(\u001b[0m\u001b[0mself\u001b[0m\u001b[0;34m)\u001b[0m\u001b[0;34m:\u001b[0m\u001b[0;34m\u001b[0m\u001b[0;34m\u001b[0m\u001b[0m\n",
            "\u001b[0;32m/usr/local/lib/python3.10/dist-packages/pandas/core/apply.py\u001b[0m in \u001b[0;36mapply_standard\u001b[0;34m(self)\u001b[0m\n\u001b[1;32m   1172\u001b[0m             \u001b[0;32melse\u001b[0m\u001b[0;34m:\u001b[0m\u001b[0;34m\u001b[0m\u001b[0;34m\u001b[0m\u001b[0m\n\u001b[1;32m   1173\u001b[0m                 \u001b[0mvalues\u001b[0m \u001b[0;34m=\u001b[0m \u001b[0mobj\u001b[0m\u001b[0;34m.\u001b[0m\u001b[0mastype\u001b[0m\u001b[0;34m(\u001b[0m\u001b[0mobject\u001b[0m\u001b[0;34m)\u001b[0m\u001b[0;34m.\u001b[0m\u001b[0m_values\u001b[0m\u001b[0;34m\u001b[0m\u001b[0;34m\u001b[0m\u001b[0m\n\u001b[0;32m-> 1174\u001b[0;31m                 mapped = lib.map_infer(\n\u001b[0m\u001b[1;32m   1175\u001b[0m                     \u001b[0mvalues\u001b[0m\u001b[0;34m,\u001b[0m\u001b[0;34m\u001b[0m\u001b[0;34m\u001b[0m\u001b[0m\n\u001b[1;32m   1176\u001b[0m                     \u001b[0mf\u001b[0m\u001b[0;34m,\u001b[0m\u001b[0;34m\u001b[0m\u001b[0;34m\u001b[0m\u001b[0m\n",
            "\u001b[0;32m/usr/local/lib/python3.10/dist-packages/pandas/_libs/lib.pyx\u001b[0m in \u001b[0;36mpandas._libs.lib.map_infer\u001b[0;34m()\u001b[0m\n",
            "\u001b[0;32m<ipython-input-47-6d40ceca6a7e>\u001b[0m in \u001b[0;36m<lambda>\u001b[0;34m(text)\u001b[0m\n\u001b[1;32m     13\u001b[0m \u001b[0;34m\u001b[0m\u001b[0m\n\u001b[1;32m     14\u001b[0m \u001b[0;31m# Convert text data to word embeddings using the loaded model\u001b[0m\u001b[0;34m\u001b[0m\u001b[0;34m\u001b[0m\u001b[0m\n\u001b[0;32m---> 15\u001b[0;31m \u001b[0mdf\u001b[0m\u001b[0;34m[\u001b[0m\u001b[0;34m'word_embeddings'\u001b[0m\u001b[0;34m]\u001b[0m \u001b[0;34m=\u001b[0m \u001b[0mdf\u001b[0m\u001b[0;34m[\u001b[0m\u001b[0;34m'clean_text'\u001b[0m\u001b[0;34m]\u001b[0m\u001b[0;34m.\u001b[0m\u001b[0mapply\u001b[0m\u001b[0;34m(\u001b[0m\u001b[0;32mlambda\u001b[0m \u001b[0mtext\u001b[0m\u001b[0;34m:\u001b[0m \u001b[0mtext_to_embeddings\u001b[0m\u001b[0;34m(\u001b[0m\u001b[0mtext\u001b[0m\u001b[0;34m,\u001b[0m \u001b[0mword2vec_model\u001b[0m\u001b[0;34m)\u001b[0m\u001b[0;34m)\u001b[0m\u001b[0;34m\u001b[0m\u001b[0;34m\u001b[0m\u001b[0m\n\u001b[0m",
            "\u001b[0;32m<ipython-input-47-6d40ceca6a7e>\u001b[0m in \u001b[0;36mtext_to_embeddings\u001b[0;34m(text, model)\u001b[0m\n\u001b[1;32m      6\u001b[0m \u001b[0;32mdef\u001b[0m \u001b[0mtext_to_embeddings\u001b[0m\u001b[0;34m(\u001b[0m\u001b[0mtext\u001b[0m\u001b[0;34m,\u001b[0m \u001b[0mmodel\u001b[0m\u001b[0;34m)\u001b[0m\u001b[0;34m:\u001b[0m\u001b[0;34m\u001b[0m\u001b[0;34m\u001b[0m\u001b[0m\n\u001b[1;32m      7\u001b[0m     \u001b[0mwords\u001b[0m \u001b[0;34m=\u001b[0m \u001b[0mnltk\u001b[0m\u001b[0;34m.\u001b[0m\u001b[0mword_tokenize\u001b[0m\u001b[0;34m(\u001b[0m\u001b[0mtext\u001b[0m\u001b[0;34m)\u001b[0m\u001b[0;34m\u001b[0m\u001b[0;34m\u001b[0m\u001b[0m\n\u001b[0;32m----> 8\u001b[0;31m     \u001b[0membeddings\u001b[0m \u001b[0;34m=\u001b[0m \u001b[0;34m[\u001b[0m\u001b[0mmodel\u001b[0m\u001b[0;34m[\u001b[0m\u001b[0mword\u001b[0m\u001b[0;34m]\u001b[0m \u001b[0;32mfor\u001b[0m \u001b[0mword\u001b[0m \u001b[0;32min\u001b[0m \u001b[0mwords\u001b[0m \u001b[0;32mif\u001b[0m \u001b[0mword\u001b[0m \u001b[0;32min\u001b[0m \u001b[0mmodel\u001b[0m\u001b[0;34m.\u001b[0m\u001b[0mvocab\u001b[0m\u001b[0;34m]\u001b[0m\u001b[0;34m\u001b[0m\u001b[0;34m\u001b[0m\u001b[0m\n\u001b[0m\u001b[1;32m      9\u001b[0m     \u001b[0;32mif\u001b[0m \u001b[0membeddings\u001b[0m\u001b[0;34m:\u001b[0m\u001b[0;34m\u001b[0m\u001b[0;34m\u001b[0m\u001b[0m\n\u001b[1;32m     10\u001b[0m         \u001b[0;32mreturn\u001b[0m \u001b[0mnp\u001b[0m\u001b[0;34m.\u001b[0m\u001b[0mmean\u001b[0m\u001b[0;34m(\u001b[0m\u001b[0membeddings\u001b[0m\u001b[0;34m,\u001b[0m \u001b[0maxis\u001b[0m\u001b[0;34m=\u001b[0m\u001b[0;36m0\u001b[0m\u001b[0;34m)\u001b[0m\u001b[0;34m\u001b[0m\u001b[0;34m\u001b[0m\u001b[0m\n",
            "\u001b[0;32m<ipython-input-47-6d40ceca6a7e>\u001b[0m in \u001b[0;36m<listcomp>\u001b[0;34m(.0)\u001b[0m\n\u001b[1;32m      6\u001b[0m \u001b[0;32mdef\u001b[0m \u001b[0mtext_to_embeddings\u001b[0m\u001b[0;34m(\u001b[0m\u001b[0mtext\u001b[0m\u001b[0;34m,\u001b[0m \u001b[0mmodel\u001b[0m\u001b[0;34m)\u001b[0m\u001b[0;34m:\u001b[0m\u001b[0;34m\u001b[0m\u001b[0;34m\u001b[0m\u001b[0m\n\u001b[1;32m      7\u001b[0m     \u001b[0mwords\u001b[0m \u001b[0;34m=\u001b[0m \u001b[0mnltk\u001b[0m\u001b[0;34m.\u001b[0m\u001b[0mword_tokenize\u001b[0m\u001b[0;34m(\u001b[0m\u001b[0mtext\u001b[0m\u001b[0;34m)\u001b[0m\u001b[0;34m\u001b[0m\u001b[0;34m\u001b[0m\u001b[0m\n\u001b[0;32m----> 8\u001b[0;31m     \u001b[0membeddings\u001b[0m \u001b[0;34m=\u001b[0m \u001b[0;34m[\u001b[0m\u001b[0mmodel\u001b[0m\u001b[0;34m[\u001b[0m\u001b[0mword\u001b[0m\u001b[0;34m]\u001b[0m \u001b[0;32mfor\u001b[0m \u001b[0mword\u001b[0m \u001b[0;32min\u001b[0m \u001b[0mwords\u001b[0m \u001b[0;32mif\u001b[0m \u001b[0mword\u001b[0m \u001b[0;32min\u001b[0m \u001b[0mmodel\u001b[0m\u001b[0;34m.\u001b[0m\u001b[0mvocab\u001b[0m\u001b[0;34m]\u001b[0m\u001b[0;34m\u001b[0m\u001b[0;34m\u001b[0m\u001b[0m\n\u001b[0m\u001b[1;32m      9\u001b[0m     \u001b[0;32mif\u001b[0m \u001b[0membeddings\u001b[0m\u001b[0;34m:\u001b[0m\u001b[0;34m\u001b[0m\u001b[0;34m\u001b[0m\u001b[0m\n\u001b[1;32m     10\u001b[0m         \u001b[0;32mreturn\u001b[0m \u001b[0mnp\u001b[0m\u001b[0;34m.\u001b[0m\u001b[0mmean\u001b[0m\u001b[0;34m(\u001b[0m\u001b[0membeddings\u001b[0m\u001b[0;34m,\u001b[0m \u001b[0maxis\u001b[0m\u001b[0;34m=\u001b[0m\u001b[0;36m0\u001b[0m\u001b[0;34m)\u001b[0m\u001b[0;34m\u001b[0m\u001b[0;34m\u001b[0m\u001b[0m\n",
            "\u001b[0;32m/usr/local/lib/python3.10/dist-packages/gensim/models/keyedvectors.py\u001b[0m in \u001b[0;36mvocab\u001b[0;34m(self)\u001b[0m\n\u001b[1;32m    732\u001b[0m     \u001b[0;34m@\u001b[0m\u001b[0mproperty\u001b[0m\u001b[0;34m\u001b[0m\u001b[0;34m\u001b[0m\u001b[0m\n\u001b[1;32m    733\u001b[0m     \u001b[0;32mdef\u001b[0m \u001b[0mvocab\u001b[0m\u001b[0;34m(\u001b[0m\u001b[0mself\u001b[0m\u001b[0;34m)\u001b[0m\u001b[0;34m:\u001b[0m\u001b[0;34m\u001b[0m\u001b[0;34m\u001b[0m\u001b[0m\n\u001b[0;32m--> 734\u001b[0;31m         raise AttributeError(\n\u001b[0m\u001b[1;32m    735\u001b[0m             \u001b[0;34m\"The vocab attribute was removed from KeyedVector in Gensim 4.0.0.\\n\"\u001b[0m\u001b[0;34m\u001b[0m\u001b[0;34m\u001b[0m\u001b[0m\n\u001b[1;32m    736\u001b[0m             \u001b[0;34m\"Use KeyedVector's .key_to_index dict, .index_to_key list, and methods \"\u001b[0m\u001b[0;34m\u001b[0m\u001b[0;34m\u001b[0m\u001b[0m\n",
            "\u001b[0;31mAttributeError\u001b[0m: The vocab attribute was removed from KeyedVector in Gensim 4.0.0.\nUse KeyedVector's .key_to_index dict, .index_to_key list, and methods .get_vecattr(key, attr) and .set_vecattr(key, attr, new_val) instead.\nSee https://github.com/RaRe-Technologies/gensim/wiki/Migrating-from-Gensim-3.x-to-4"
          ]
        }
      ]
    },
    {
      "cell_type": "markdown",
      "source": [
        "##📊 Visualize and explore text data patterns using advanced NLP visualization"
      ],
      "metadata": {
        "id": "hYNM8I9mqW1X"
      }
    },
    {
      "cell_type": "markdown",
      "source": [
        "Text"
      ],
      "metadata": {
        "id": "mNPTRuTzqZtS"
      }
    },
    {
      "cell_type": "code",
      "source": [
        "#Code"
      ],
      "metadata": {
        "id": "_bx_2pf3qar7"
      },
      "execution_count": null,
      "outputs": []
    },
    {
      "cell_type": "markdown",
      "source": [
        "#3️⃣ Predictive Modeling with NLP"
      ],
      "metadata": {
        "id": "5zVmbifKoeqy"
      }
    },
    {
      "cell_type": "markdown",
      "source": [
        "Text"
      ],
      "metadata": {
        "id": "vGEbYzGqqgGX"
      }
    },
    {
      "cell_type": "markdown",
      "source": [
        "##✂️ Split the text dataset into training, validation, and testing sets"
      ],
      "metadata": {
        "id": "Jpx-l8oOqg52"
      }
    },
    {
      "cell_type": "markdown",
      "source": [
        "Text"
      ],
      "metadata": {
        "id": "11Gge0XEqgDI"
      }
    },
    {
      "cell_type": "code",
      "source": [
        "#Code"
      ],
      "metadata": {
        "id": "ouaWYiA4ogjq"
      },
      "execution_count": null,
      "outputs": []
    },
    {
      "cell_type": "markdown",
      "source": [
        "##📈 Choose and implement an NLP model to handle the text data"
      ],
      "metadata": {
        "id": "5-HEDTK3qsFI"
      }
    },
    {
      "cell_type": "markdown",
      "source": [
        "Text"
      ],
      "metadata": {
        "id": "hvih7QOuquAy"
      }
    },
    {
      "cell_type": "code",
      "source": [],
      "metadata": {
        "id": "SCkO-CwnqxFu"
      },
      "execution_count": null,
      "outputs": []
    },
    {
      "cell_type": "markdown",
      "source": [
        "##🤖 Select an algorithm that best suits the needs of this assessment"
      ],
      "metadata": {
        "id": "2lUUSTXPqsBF"
      }
    },
    {
      "cell_type": "markdown",
      "source": [
        "Text"
      ],
      "metadata": {
        "id": "0AlEEekNq8Z7"
      }
    },
    {
      "cell_type": "code",
      "source": [
        "#Code"
      ],
      "metadata": {
        "id": "poMsouvOq9Y6"
      },
      "execution_count": null,
      "outputs": []
    },
    {
      "cell_type": "markdown",
      "source": [
        "##🏃‍♂️ Train the model on the training set"
      ],
      "metadata": {
        "id": "3q1rHQlFq_si"
      }
    },
    {
      "cell_type": "markdown",
      "source": [
        "Text"
      ],
      "metadata": {
        "id": "o0wINza7rBRx"
      }
    },
    {
      "cell_type": "code",
      "source": [
        "#Code"
      ],
      "metadata": {
        "id": "os3PviJcrCtW"
      },
      "execution_count": null,
      "outputs": []
    },
    {
      "cell_type": "markdown",
      "source": [
        "##📝 Evaluate the model on the validation set"
      ],
      "metadata": {
        "id": "TR4fh4RFq_ok"
      }
    },
    {
      "cell_type": "markdown",
      "source": [
        "Text"
      ],
      "metadata": {
        "id": "Wjl0F_YIrVt6"
      }
    },
    {
      "cell_type": "code",
      "source": [],
      "metadata": {
        "id": "0zgtBlwkrUig"
      },
      "execution_count": null,
      "outputs": []
    },
    {
      "cell_type": "markdown",
      "source": [
        "#4️⃣ Model Interpretation"
      ],
      "metadata": {
        "id": "mZvCTzotokKk"
      }
    },
    {
      "cell_type": "markdown",
      "source": [
        "Text"
      ],
      "metadata": {
        "id": "6BQUPMbIreM7"
      }
    },
    {
      "cell_type": "markdown",
      "source": [
        "##👨‍💻 Interpret complex text model predictions"
      ],
      "metadata": {
        "id": "4eehRGAwrhDO"
      }
    },
    {
      "cell_type": "markdown",
      "source": [
        "Text"
      ],
      "metadata": {
        "id": "J6Wp8H-grkoM"
      }
    },
    {
      "cell_type": "code",
      "source": [
        "#Code"
      ],
      "metadata": {
        "id": "AI5jWlVkopjZ"
      },
      "execution_count": null,
      "outputs": []
    },
    {
      "cell_type": "markdown",
      "source": [
        "##🧑‍🚀 Explore the model's sensitivity"
      ],
      "metadata": {
        "id": "Px8e1mkBrm2q"
      }
    },
    {
      "cell_type": "markdown",
      "source": [
        "Text"
      ],
      "metadata": {
        "id": "X6AUe3Eprp1P"
      }
    },
    {
      "cell_type": "code",
      "source": [
        "#Code"
      ],
      "metadata": {
        "id": "bUAkqPr6rqTx"
      },
      "execution_count": null,
      "outputs": []
    },
    {
      "cell_type": "markdown",
      "source": [
        "##🧑‍🏫 Discuss the model's robustness"
      ],
      "metadata": {
        "id": "D8npBK9FrvT0"
      }
    },
    {
      "cell_type": "markdown",
      "source": [
        "Text"
      ],
      "metadata": {
        "id": "ECkHWEFgrxw6"
      }
    },
    {
      "cell_type": "code",
      "source": [
        "#Code"
      ],
      "metadata": {
        "id": "WD6fFmNHryjF"
      },
      "execution_count": null,
      "outputs": []
    }
  ]
}