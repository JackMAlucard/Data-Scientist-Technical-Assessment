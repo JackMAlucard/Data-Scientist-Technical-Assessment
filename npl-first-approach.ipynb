{
  "nbformat": 4,
  "nbformat_minor": 0,
  "metadata": {
    "colab": {
      "provenance": [],
      "gpuType": "T4",
      "authorship_tag": "ABX9TyN5TDx/UYDLbxpnS93gzJTU",
      "include_colab_link": true
    },
    "kernelspec": {
      "name": "python3",
      "display_name": "Python 3"
    },
    "language_info": {
      "name": "python"
    },
    "accelerator": "GPU"
  },
  "cells": [
    {
      "cell_type": "markdown",
      "metadata": {
        "id": "view-in-github",
        "colab_type": "text"
      },
      "source": [
        "<a href=\"https://colab.research.google.com/github/JackMAlucard/Data-Scientist-Technical-Assessment/blob/main/npl-first-approach.ipynb\" target=\"_parent\"><img src=\"https://colab.research.google.com/assets/colab-badge.svg\" alt=\"Open In Colab\"/></a>"
      ]
    },
    {
      "cell_type": "markdown",
      "source": [
        "#First Approach to NLP by reproducing simple projects"
      ],
      "metadata": {
        "id": "5PVkxIlmf0HT"
      }
    },
    {
      "cell_type": "markdown",
      "source": [
        "#Installing and using the Kaggle API to  import datasets from Kaggle directly"
      ],
      "metadata": {
        "id": "iqtoP38nl5cu"
      }
    },
    {
      "cell_type": "code",
      "execution_count": 1,
      "metadata": {
        "id": "Acz8XMUYH0IQ",
        "outputId": "2004fd2f-0731-40e7-f16d-0321e5c48611",
        "colab": {
          "base_uri": "https://localhost:8080/"
        }
      },
      "outputs": [
        {
          "output_type": "stream",
          "name": "stdout",
          "text": [
            "Requirement already satisfied: kaggle in /usr/local/lib/python3.10/dist-packages (1.5.16)\n",
            "Requirement already satisfied: six>=1.10 in /usr/local/lib/python3.10/dist-packages (from kaggle) (1.16.0)\n",
            "Requirement already satisfied: certifi in /usr/local/lib/python3.10/dist-packages (from kaggle) (2023.7.22)\n",
            "Requirement already satisfied: python-dateutil in /usr/local/lib/python3.10/dist-packages (from kaggle) (2.8.2)\n",
            "Requirement already satisfied: requests in /usr/local/lib/python3.10/dist-packages (from kaggle) (2.31.0)\n",
            "Requirement already satisfied: tqdm in /usr/local/lib/python3.10/dist-packages (from kaggle) (4.66.1)\n",
            "Requirement already satisfied: python-slugify in /usr/local/lib/python3.10/dist-packages (from kaggle) (8.0.1)\n",
            "Requirement already satisfied: urllib3 in /usr/local/lib/python3.10/dist-packages (from kaggle) (2.0.6)\n",
            "Requirement already satisfied: bleach in /usr/local/lib/python3.10/dist-packages (from kaggle) (6.0.0)\n",
            "Requirement already satisfied: webencodings in /usr/local/lib/python3.10/dist-packages (from bleach->kaggle) (0.5.1)\n",
            "Requirement already satisfied: text-unidecode>=1.3 in /usr/local/lib/python3.10/dist-packages (from python-slugify->kaggle) (1.3)\n",
            "Requirement already satisfied: charset-normalizer<4,>=2 in /usr/local/lib/python3.10/dist-packages (from requests->kaggle) (3.3.0)\n",
            "Requirement already satisfied: idna<4,>=2.5 in /usr/local/lib/python3.10/dist-packages (from requests->kaggle) (3.4)\n"
          ]
        }
      ],
      "source": [
        "# Install the Kaggle API\n",
        "!pip install kaggle"
      ]
    },
    {
      "cell_type": "code",
      "source": [
        "# Upload Kaggle API Credentials, downloaded from https://www.kaggle.com/settings\n",
        "from google.colab import files\n",
        "files.upload()"
      ],
      "metadata": {
        "id": "geQ1njOemGKf",
        "outputId": "678a39c1-2d95-41c6-f999-b5eaec9e3c80",
        "colab": {
          "base_uri": "https://localhost:8080/",
          "height": 90
        }
      },
      "execution_count": 2,
      "outputs": [
        {
          "output_type": "display_data",
          "data": {
            "text/plain": [
              "<IPython.core.display.HTML object>"
            ],
            "text/html": [
              "\n",
              "     <input type=\"file\" id=\"files-5a28431b-5358-493a-b50c-fceb418113f0\" name=\"files[]\" multiple disabled\n",
              "        style=\"border:none\" />\n",
              "     <output id=\"result-5a28431b-5358-493a-b50c-fceb418113f0\">\n",
              "      Upload widget is only available when the cell has been executed in the\n",
              "      current browser session. Please rerun this cell to enable.\n",
              "      </output>\n",
              "      <script>// Copyright 2017 Google LLC\n",
              "//\n",
              "// Licensed under the Apache License, Version 2.0 (the \"License\");\n",
              "// you may not use this file except in compliance with the License.\n",
              "// You may obtain a copy of the License at\n",
              "//\n",
              "//      http://www.apache.org/licenses/LICENSE-2.0\n",
              "//\n",
              "// Unless required by applicable law or agreed to in writing, software\n",
              "// distributed under the License is distributed on an \"AS IS\" BASIS,\n",
              "// WITHOUT WARRANTIES OR CONDITIONS OF ANY KIND, either express or implied.\n",
              "// See the License for the specific language governing permissions and\n",
              "// limitations under the License.\n",
              "\n",
              "/**\n",
              " * @fileoverview Helpers for google.colab Python module.\n",
              " */\n",
              "(function(scope) {\n",
              "function span(text, styleAttributes = {}) {\n",
              "  const element = document.createElement('span');\n",
              "  element.textContent = text;\n",
              "  for (const key of Object.keys(styleAttributes)) {\n",
              "    element.style[key] = styleAttributes[key];\n",
              "  }\n",
              "  return element;\n",
              "}\n",
              "\n",
              "// Max number of bytes which will be uploaded at a time.\n",
              "const MAX_PAYLOAD_SIZE = 100 * 1024;\n",
              "\n",
              "function _uploadFiles(inputId, outputId) {\n",
              "  const steps = uploadFilesStep(inputId, outputId);\n",
              "  const outputElement = document.getElementById(outputId);\n",
              "  // Cache steps on the outputElement to make it available for the next call\n",
              "  // to uploadFilesContinue from Python.\n",
              "  outputElement.steps = steps;\n",
              "\n",
              "  return _uploadFilesContinue(outputId);\n",
              "}\n",
              "\n",
              "// This is roughly an async generator (not supported in the browser yet),\n",
              "// where there are multiple asynchronous steps and the Python side is going\n",
              "// to poll for completion of each step.\n",
              "// This uses a Promise to block the python side on completion of each step,\n",
              "// then passes the result of the previous step as the input to the next step.\n",
              "function _uploadFilesContinue(outputId) {\n",
              "  const outputElement = document.getElementById(outputId);\n",
              "  const steps = outputElement.steps;\n",
              "\n",
              "  const next = steps.next(outputElement.lastPromiseValue);\n",
              "  return Promise.resolve(next.value.promise).then((value) => {\n",
              "    // Cache the last promise value to make it available to the next\n",
              "    // step of the generator.\n",
              "    outputElement.lastPromiseValue = value;\n",
              "    return next.value.response;\n",
              "  });\n",
              "}\n",
              "\n",
              "/**\n",
              " * Generator function which is called between each async step of the upload\n",
              " * process.\n",
              " * @param {string} inputId Element ID of the input file picker element.\n",
              " * @param {string} outputId Element ID of the output display.\n",
              " * @return {!Iterable<!Object>} Iterable of next steps.\n",
              " */\n",
              "function* uploadFilesStep(inputId, outputId) {\n",
              "  const inputElement = document.getElementById(inputId);\n",
              "  inputElement.disabled = false;\n",
              "\n",
              "  const outputElement = document.getElementById(outputId);\n",
              "  outputElement.innerHTML = '';\n",
              "\n",
              "  const pickedPromise = new Promise((resolve) => {\n",
              "    inputElement.addEventListener('change', (e) => {\n",
              "      resolve(e.target.files);\n",
              "    });\n",
              "  });\n",
              "\n",
              "  const cancel = document.createElement('button');\n",
              "  inputElement.parentElement.appendChild(cancel);\n",
              "  cancel.textContent = 'Cancel upload';\n",
              "  const cancelPromise = new Promise((resolve) => {\n",
              "    cancel.onclick = () => {\n",
              "      resolve(null);\n",
              "    };\n",
              "  });\n",
              "\n",
              "  // Wait for the user to pick the files.\n",
              "  const files = yield {\n",
              "    promise: Promise.race([pickedPromise, cancelPromise]),\n",
              "    response: {\n",
              "      action: 'starting',\n",
              "    }\n",
              "  };\n",
              "\n",
              "  cancel.remove();\n",
              "\n",
              "  // Disable the input element since further picks are not allowed.\n",
              "  inputElement.disabled = true;\n",
              "\n",
              "  if (!files) {\n",
              "    return {\n",
              "      response: {\n",
              "        action: 'complete',\n",
              "      }\n",
              "    };\n",
              "  }\n",
              "\n",
              "  for (const file of files) {\n",
              "    const li = document.createElement('li');\n",
              "    li.append(span(file.name, {fontWeight: 'bold'}));\n",
              "    li.append(span(\n",
              "        `(${file.type || 'n/a'}) - ${file.size} bytes, ` +\n",
              "        `last modified: ${\n",
              "            file.lastModifiedDate ? file.lastModifiedDate.toLocaleDateString() :\n",
              "                                    'n/a'} - `));\n",
              "    const percent = span('0% done');\n",
              "    li.appendChild(percent);\n",
              "\n",
              "    outputElement.appendChild(li);\n",
              "\n",
              "    const fileDataPromise = new Promise((resolve) => {\n",
              "      const reader = new FileReader();\n",
              "      reader.onload = (e) => {\n",
              "        resolve(e.target.result);\n",
              "      };\n",
              "      reader.readAsArrayBuffer(file);\n",
              "    });\n",
              "    // Wait for the data to be ready.\n",
              "    let fileData = yield {\n",
              "      promise: fileDataPromise,\n",
              "      response: {\n",
              "        action: 'continue',\n",
              "      }\n",
              "    };\n",
              "\n",
              "    // Use a chunked sending to avoid message size limits. See b/62115660.\n",
              "    let position = 0;\n",
              "    do {\n",
              "      const length = Math.min(fileData.byteLength - position, MAX_PAYLOAD_SIZE);\n",
              "      const chunk = new Uint8Array(fileData, position, length);\n",
              "      position += length;\n",
              "\n",
              "      const base64 = btoa(String.fromCharCode.apply(null, chunk));\n",
              "      yield {\n",
              "        response: {\n",
              "          action: 'append',\n",
              "          file: file.name,\n",
              "          data: base64,\n",
              "        },\n",
              "      };\n",
              "\n",
              "      let percentDone = fileData.byteLength === 0 ?\n",
              "          100 :\n",
              "          Math.round((position / fileData.byteLength) * 100);\n",
              "      percent.textContent = `${percentDone}% done`;\n",
              "\n",
              "    } while (position < fileData.byteLength);\n",
              "  }\n",
              "\n",
              "  // All done.\n",
              "  yield {\n",
              "    response: {\n",
              "      action: 'complete',\n",
              "    }\n",
              "  };\n",
              "}\n",
              "\n",
              "scope.google = scope.google || {};\n",
              "scope.google.colab = scope.google.colab || {};\n",
              "scope.google.colab._files = {\n",
              "  _uploadFiles,\n",
              "  _uploadFilesContinue,\n",
              "};\n",
              "})(self);\n",
              "</script> "
            ]
          },
          "metadata": {}
        },
        {
          "output_type": "stream",
          "name": "stdout",
          "text": [
            "Saving kaggle.json to kaggle.json\n"
          ]
        },
        {
          "output_type": "execute_result",
          "data": {
            "text/plain": [
              "{'kaggle.json': b'{\"username\":\"jackmalucard\",\"key\":\"2aa4618ce05c77e80b6f52fc895aa216\"}'}"
            ]
          },
          "metadata": {},
          "execution_count": 2
        }
      ]
    },
    {
      "cell_type": "code",
      "source": [
        "# Move Kaggle API Credentials\n",
        "!mkdir -p ~/.kaggle\n",
        "!mv kaggle.json ~/.kaggle/\n",
        "# Set Permissions\n",
        "!chmod 600 ~/.kaggle/kaggle.json"
      ],
      "metadata": {
        "id": "K9mHde6OnT_Z"
      },
      "execution_count": 3,
      "outputs": []
    },
    {
      "cell_type": "markdown",
      "source": [
        "The Kaggle API can now be used to download datasets directly by using the following command:\n",
        "\n",
        "\n",
        "```\n",
        "!kaggle datasets download -d dataset_name\n",
        "```\n",
        "\n",
        "Where ```dataset_name``` is the actual name of the dataset to be download from Kaggle, such as ```zynicide/wine-reviews``` for example."
      ],
      "metadata": {
        "id": "H9JPARJlnlly"
      }
    },
    {
      "cell_type": "markdown",
      "source": [
        "#First project: [Wine Reviews](https://www.kaggle.com/datasets/zynicide/wine-reviews)"
      ],
      "metadata": {
        "id": "nIhsrDCamHFf"
      }
    },
    {
      "cell_type": "markdown",
      "source": [
        "###Downloading dataset from Kaggle"
      ],
      "metadata": {
        "id": "eaW1HFdYxQOb"
      }
    },
    {
      "cell_type": "code",
      "source": [
        "# Download dataset directly using the Kaggle API\n",
        "!kaggle datasets download -d zynicide/wine-reviews"
      ],
      "metadata": {
        "id": "lthSqJC4migU",
        "outputId": "99a97a10-6c56-4d75-8b27-19549c42496d",
        "colab": {
          "base_uri": "https://localhost:8080/"
        }
      },
      "execution_count": 4,
      "outputs": [
        {
          "output_type": "stream",
          "name": "stdout",
          "text": [
            "Downloading wine-reviews.zip to /content\n",
            " 94% 48.0M/50.9M [00:02<00:00, 28.4MB/s]\n",
            "100% 50.9M/50.9M [00:02<00:00, 20.7MB/s]\n"
          ]
        }
      ]
    },
    {
      "cell_type": "markdown",
      "source": [
        "###Extracting dataset from zip file into the ```/content``` directory."
      ],
      "metadata": {
        "id": "TWwLOD6xoyyj"
      }
    },
    {
      "cell_type": "code",
      "source": [
        "# Import 'zipfile' module\n",
        "import zipfile\n",
        "\n",
        "# Specify the path to the zip file with the dataset\n",
        "zip_file_path = 'wine-reviews.zip'\n",
        "\n",
        "# Specify the directory where the files are to be extracted\n",
        "extract_dir = '/content'\n",
        "\n",
        "# Extract the files\n",
        "with zipfile.ZipFile(zip_file_path, 'r') as zip_ref:\n",
        "    zip_ref.extractall(extract_dir)"
      ],
      "metadata": {
        "id": "77lQx4uRoxyt"
      },
      "execution_count": 5,
      "outputs": []
    },
    {
      "cell_type": "markdown",
      "source": [
        "Getting the names of the files inside the dataset to be used later"
      ],
      "metadata": {
        "id": "ykWQGHsVvEgo"
      }
    },
    {
      "cell_type": "code",
      "source": [
        "import os\n",
        "\n",
        "# Specify the directory path\n",
        "directory_path = '/content'\n",
        "\n",
        "# Specify the desired file extension\n",
        "extension = '.csv'\n",
        "\n",
        "# Get a list of file names in the directory\n",
        "file_names = os.listdir(directory_path)\n",
        "\n",
        "# Filter and save filenames with the desired extension\n",
        "filtered_files = [file_name for file_name in file_names if file_name.endswith(extension)]\n",
        "\n",
        "# Print the list of file names\n",
        "print(\"List of file names in the directory:\")\n",
        "for file_name in filtered_files:\n",
        "    print(file_name)"
      ],
      "metadata": {
        "id": "fVr_Qc9Iut3a",
        "outputId": "19d8f4be-7560-4fcc-825c-aa65bbc77e26",
        "colab": {
          "base_uri": "https://localhost:8080/"
        }
      },
      "execution_count": 6,
      "outputs": [
        {
          "output_type": "stream",
          "name": "stdout",
          "text": [
            "List of file names in the directory:\n",
            "winemag-data-130k-v2.csv\n",
            "winemag-data_first150k.csv\n"
          ]
        }
      ]
    },
    {
      "cell_type": "markdown",
      "source": [
        "###Loading and inspecting data"
      ],
      "metadata": {
        "id": "r7VZ6C7QuBys"
      }
    },
    {
      "cell_type": "code",
      "source": [
        "# Import pandas library\n",
        "import pandas as pd"
      ],
      "metadata": {
        "id": "3zCnKTfNuJGf"
      },
      "execution_count": 7,
      "outputs": []
    },
    {
      "cell_type": "code",
      "source": [
        "# Load the dataset files into Pandas DataFrames\n",
        "df1 = pd.read_csv(filtered_files[0], index_col = 0)\n",
        "df2 = pd.read_csv(filtered_files[1], index_col = 0)"
      ],
      "metadata": {
        "id": "dtW09UA2-awo"
      },
      "execution_count": 8,
      "outputs": []
    },
    {
      "cell_type": "code",
      "source": [
        "# Dataset #1\n",
        "# Display the first few rows of the DataFrames\n",
        "print(\"First few rows of DataFrame 1:\")\n",
        "print(df1.head())\n",
        "print(\"\\n\")\n",
        "\n",
        "# Get basic information about the DataFrame\n",
        "print(\"DataFrame 1 info:\")\n",
        "print(df1.info())"
      ],
      "metadata": {
        "id": "RmhacNMX-eOn",
        "outputId": "90a6daa8-c44c-461f-e021-d4ff1215c710",
        "colab": {
          "base_uri": "https://localhost:8080/"
        }
      },
      "execution_count": 9,
      "outputs": [
        {
          "output_type": "stream",
          "name": "stdout",
          "text": [
            "First few rows of DataFrame 1:\n",
            "    country                                        description  \\\n",
            "0     Italy  Aromas include tropical fruit, broom, brimston...   \n",
            "1  Portugal  This is ripe and fruity, a wine that is smooth...   \n",
            "2        US  Tart and snappy, the flavors of lime flesh and...   \n",
            "3        US  Pineapple rind, lemon pith and orange blossom ...   \n",
            "4        US  Much like the regular bottling from 2012, this...   \n",
            "\n",
            "                          designation  points  price           province  \\\n",
            "0                        Vulkà Bianco      87    NaN  Sicily & Sardinia   \n",
            "1                            Avidagos      87   15.0              Douro   \n",
            "2                                 NaN      87   14.0             Oregon   \n",
            "3                Reserve Late Harvest      87   13.0           Michigan   \n",
            "4  Vintner's Reserve Wild Child Block      87   65.0             Oregon   \n",
            "\n",
            "              region_1           region_2         taster_name  \\\n",
            "0                 Etna                NaN       Kerin O’Keefe   \n",
            "1                  NaN                NaN          Roger Voss   \n",
            "2    Willamette Valley  Willamette Valley        Paul Gregutt   \n",
            "3  Lake Michigan Shore                NaN  Alexander Peartree   \n",
            "4    Willamette Valley  Willamette Valley        Paul Gregutt   \n",
            "\n",
            "  taster_twitter_handle                                              title  \\\n",
            "0          @kerinokeefe                  Nicosia 2013 Vulkà Bianco  (Etna)   \n",
            "1            @vossroger      Quinta dos Avidagos 2011 Avidagos Red (Douro)   \n",
            "2           @paulgwine       Rainstorm 2013 Pinot Gris (Willamette Valley)   \n",
            "3                   NaN  St. Julian 2013 Reserve Late Harvest Riesling ...   \n",
            "4           @paulgwine   Sweet Cheeks 2012 Vintner's Reserve Wild Child...   \n",
            "\n",
            "          variety               winery  \n",
            "0     White Blend              Nicosia  \n",
            "1  Portuguese Red  Quinta dos Avidagos  \n",
            "2      Pinot Gris            Rainstorm  \n",
            "3        Riesling           St. Julian  \n",
            "4      Pinot Noir         Sweet Cheeks  \n",
            "\n",
            "\n",
            "DataFrame 1 info:\n",
            "<class 'pandas.core.frame.DataFrame'>\n",
            "Int64Index: 129971 entries, 0 to 129970\n",
            "Data columns (total 13 columns):\n",
            " #   Column                 Non-Null Count   Dtype  \n",
            "---  ------                 --------------   -----  \n",
            " 0   country                129908 non-null  object \n",
            " 1   description            129971 non-null  object \n",
            " 2   designation            92506 non-null   object \n",
            " 3   points                 129971 non-null  int64  \n",
            " 4   price                  120975 non-null  float64\n",
            " 5   province               129908 non-null  object \n",
            " 6   region_1               108724 non-null  object \n",
            " 7   region_2               50511 non-null   object \n",
            " 8   taster_name            103727 non-null  object \n",
            " 9   taster_twitter_handle  98758 non-null   object \n",
            " 10  title                  129971 non-null  object \n",
            " 11  variety                129970 non-null  object \n",
            " 12  winery                 129971 non-null  object \n",
            "dtypes: float64(1), int64(1), object(11)\n",
            "memory usage: 13.9+ MB\n",
            "None\n"
          ]
        }
      ]
    },
    {
      "cell_type": "code",
      "source": [
        "# Dataset #2\n",
        "# Display the first few rows of the DataFrames\n",
        "print(\"First few rows of DataFrame 2:\")\n",
        "print(df2.head())\n",
        "print(\"\\n\")\n",
        "\n",
        "# Get basic information about the DataFrame\n",
        "print(\"DataFrame 2 info:\")\n",
        "print(df2.info())"
      ],
      "metadata": {
        "id": "nnVX4URruhUo",
        "outputId": "9c731427-282c-4acf-b97c-fc9b7a65b66f",
        "colab": {
          "base_uri": "https://localhost:8080/"
        }
      },
      "execution_count": 10,
      "outputs": [
        {
          "output_type": "stream",
          "name": "stdout",
          "text": [
            "First few rows of DataFrame 2:\n",
            "  country                                        description  \\\n",
            "0      US  This tremendous 100% varietal wine hails from ...   \n",
            "1   Spain  Ripe aromas of fig, blackberry and cassis are ...   \n",
            "2      US  Mac Watson honors the memory of a wine once ma...   \n",
            "3      US  This spent 20 months in 30% new French oak, an...   \n",
            "4  France  This is the top wine from La Bégude, named aft...   \n",
            "\n",
            "                            designation  points  price        province  \\\n",
            "0                     Martha's Vineyard      96  235.0      California   \n",
            "1  Carodorum Selección Especial Reserva      96  110.0  Northern Spain   \n",
            "2         Special Selected Late Harvest      96   90.0      California   \n",
            "3                               Reserve      96   65.0          Oregon   \n",
            "4                            La Brûlade      95   66.0        Provence   \n",
            "\n",
            "            region_1           region_2             variety  \\\n",
            "0        Napa Valley               Napa  Cabernet Sauvignon   \n",
            "1               Toro                NaN       Tinta de Toro   \n",
            "2     Knights Valley             Sonoma     Sauvignon Blanc   \n",
            "3  Willamette Valley  Willamette Valley          Pinot Noir   \n",
            "4             Bandol                NaN  Provence red blend   \n",
            "\n",
            "                    winery  \n",
            "0                    Heitz  \n",
            "1  Bodega Carmen Rodríguez  \n",
            "2                 Macauley  \n",
            "3                    Ponzi  \n",
            "4     Domaine de la Bégude  \n",
            "\n",
            "\n",
            "DataFrame 2 info:\n",
            "<class 'pandas.core.frame.DataFrame'>\n",
            "Int64Index: 150930 entries, 0 to 150929\n",
            "Data columns (total 10 columns):\n",
            " #   Column       Non-Null Count   Dtype  \n",
            "---  ------       --------------   -----  \n",
            " 0   country      150925 non-null  object \n",
            " 1   description  150930 non-null  object \n",
            " 2   designation  105195 non-null  object \n",
            " 3   points       150930 non-null  int64  \n",
            " 4   price        137235 non-null  float64\n",
            " 5   province     150925 non-null  object \n",
            " 6   region_1     125870 non-null  object \n",
            " 7   region_2     60953 non-null   object \n",
            " 8   variety      150930 non-null  object \n",
            " 9   winery       150930 non-null  object \n",
            "dtypes: float64(1), int64(1), object(8)\n",
            "memory usage: 12.7+ MB\n",
            "None\n"
          ]
        }
      ]
    },
    {
      "cell_type": "markdown",
      "source": [
        "##Loading libraries to be used for analysis"
      ],
      "metadata": {
        "id": "RZ9wBsuk_ILi"
      }
    },
    {
      "cell_type": "code",
      "source": [
        "from collections import Counter\n",
        "import numpy as np\n",
        "from sklearn.naive_bayes import MultinomialNB\n",
        "from sklearn import svm\n",
        "from sklearn.feature_extraction.text import CountVectorizer\n",
        "from sklearn.feature_extraction.text import TfidfTransformer\n",
        "from sklearn.model_selection import train_test_split"
      ],
      "metadata": {
        "id": "qPTVh3Ox_McR"
      },
      "execution_count": 11,
      "outputs": []
    },
    {
      "cell_type": "markdown",
      "source": [
        "##Dataset #1\n",
        "From article analysis"
      ],
      "metadata": {
        "id": "9RPHTwL_-2VH"
      }
    },
    {
      "cell_type": "code",
      "source": [
        "# Identifying and filtering the rows in df1 that correspond to the top 10\n",
        "# most common 'variety' values, creating a new DataFrame df with only these rows\n",
        "counter = Counter(df1['variety'].tolist())\n",
        "top_10_varieties = {i[0]: idx for idx, i in enumerate(counter.most_common(10))}\n",
        "df = df1[df1['variety'].map(lambda x: x in top_10_varieties)]\n",
        "\n",
        "# Convert the 'descriptions' in df into a list\n",
        "description_list = df['description'].tolist()\n",
        "# Transform the 'variety' values in df into numerical indices\n",
        "varietal_list = [top_10_varieties[i] for i in df['variety'].tolist()]\n",
        "varietal_list = np.array(varietal_list)\n",
        "\n",
        "# Preprocess the descriptions in description_list and\n",
        "# convert them into a numerical representation: a document-term matrix (DTM)\n",
        "count_vect = CountVectorizer()\n",
        "x_train_counts = count_vect.fit_transform(description_list)\n",
        "\n",
        "# Convert the x_train_counts DTM into a TF-IDF representation, a matrix\n",
        "tfidf_transformer = TfidfTransformer()\n",
        "x_train_tfidf = tfidf_transformer.fit_transform(x_train_counts)\n",
        "\n",
        "train_x, test_x, train_y, test_y = train_test_split(x_train_tfidf, varietal_list, test_size=0.3)\n",
        "\n",
        "#Using SVC\n",
        "clf = svm.SVC(kernel='linear').fit(train_x, train_y)\n",
        "y_score = clf.predict(test_x)\n",
        "\n",
        "n_right = 0\n",
        "for i in range(len(y_score)):\n",
        "    if y_score[i] == test_y[i]:\n",
        "        n_right += 1\n",
        "\n",
        "print(\"Accuracy: %.2f%%\" % ((n_right/float(len(test_y)) * 100)))"
      ],
      "metadata": {
        "id": "pbBcrsg2-8Vv",
        "outputId": "1d94054f-270d-4080-9196-fb6041bcbd51",
        "colab": {
          "base_uri": "https://localhost:8080/"
        }
      },
      "execution_count": 12,
      "outputs": [
        {
          "output_type": "stream",
          "name": "stdout",
          "text": [
            "Accuracy: 80.24%\n"
          ]
        }
      ]
    },
    {
      "cell_type": "code",
      "source": [
        "counter = Counter(df1['variety'].tolist())\n",
        "top_10_varieties = {i[0]: idx for idx, i in enumerate(counter.most_common(10))}\n",
        "df = df1[df1['variety'].map(lambda x: x in top_10_varieties)]\n",
        "\n",
        "description_list = df['description'].tolist()\n",
        "varietal_list = [top_10_varieties[i] for i in df['variety'].tolist()]\n",
        "varietal_list = np.array(varietal_list)\n",
        "\n",
        "count_vect = CountVectorizer()\n",
        "x_train_counts = count_vect.fit_transform(description_list)\n",
        "\n",
        "\n",
        "tfidf_transformer = TfidfTransformer()\n",
        "x_train_tfidf = tfidf_transformer.fit_transform(x_train_counts)\n",
        "\n",
        "train_x, test_x, train_y, test_y = train_test_split(x_train_tfidf, varietal_list, test_size=0.3)\n",
        "\n",
        "#Using Multinomial Naive Bayes\n",
        "clf = MultinomialNB().fit(train_x, train_y)\n",
        "y_score = clf.predict(test_x)\n",
        "\n",
        "n_right = 0\n",
        "for i in range(len(y_score)):\n",
        "    if y_score[i] == test_y[i]:\n",
        "        n_right += 1\n",
        "\n",
        "print(\"Accuracy: %.2f%%\" % ((n_right/float(len(test_y)) * 100)))"
      ],
      "metadata": {
        "id": "mX6AMdRCOaMG",
        "outputId": "eff59420-db38-4c72-c424-e40538c21de9",
        "colab": {
          "base_uri": "https://localhost:8080/"
        }
      },
      "execution_count": 15,
      "outputs": [
        {
          "output_type": "stream",
          "name": "stdout",
          "text": [
            "Accuracy: 63.42%\n"
          ]
        }
      ]
    },
    {
      "cell_type": "markdown",
      "source": [
        "My own analysis, based on a mixture from  "
      ],
      "metadata": {
        "id": "LdLkCuhKDyYz"
      }
    }
  ]
}